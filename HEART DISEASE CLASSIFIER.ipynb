{
 "cells": [
  {
   "cell_type": "markdown",
   "metadata": {},
   "source": [
    "## BINARY CLASSIFICATION\n",
    "\n",
    "Predictive modelling is a revolution in the field of artificial intelligence. With the use of proper learning algorithms and advanced statistical techniques, it is possible to create extremely powerful and accurate models that can predict just about anything. Binary classification, as its name suggests, is a problem statement in which a model is tasked with predicting the value of a variable such that the variable can have only one of possible two values. For example, predicting if a particular day will have a maximum temperature of 30 degree celsius is a binary classification problem because there can be only two possible answers to this question: Yes or No. In this article, I have tried to delve into the depths of another binary classification problem and made an attempt to create a basic predictive model."
   ]
  },
  {
   "cell_type": "markdown",
   "metadata": {},
   "source": [
    "## INTRODUCTION\n",
    "\n",
    "This notebook has been made as an attempt to analyze the data about heart related conditions of various patients.\n",
    "After analyzing the data, an attempt has been made to predict the possibility of a person having heart disease based on the given attributes. The starting point of this journey is the analysis of the given data using different visualization techniques. Gradually, we move onto the process of modelling in which we try out diffrent algorithms to predict the occurrence of heart disease based on the given attributes. A number of models are tried and one of them is shortlisted for further fine-tuning based on its accuracy. The selected model is used to find out the most significant variables that contribute to a correct prediction.\n",
    "The final model uses only the most important variables to predict whether a person has a heart disease or not."
   ]
  },
  {
   "cell_type": "markdown",
   "metadata": {},
   "source": [
    "## DATA\n",
    "\n",
    "Data for this project is collected from the link mentioned below. The entire dataset is split into training and validation parts. The training part of the dataset is used to train the model and the validation part of the dataset is used to test the accuracy of the model. Validation data is necessary to gauge the performance of the model when it deals with completely unknown data. This gives a rough idea about how the model will perform in real life.\n",
    "\n",
    "The link for the complete dataset is:\n",
    "\n",
    "https://www.kaggle.com/cherngs/heart-disease-cleveland-uci"
   ]
  },
  {
   "cell_type": "markdown",
   "metadata": {},
   "source": [
    "## DATA DICTIONARY\n",
    "\n",
    "Data dictionary is like the legend. It describes what each variable in the dataset stands for. The data dictionary of our dataset is explained as follows:\n",
    "\n",
    "There are 14 features. The first 13 are the variables. The 14th feature, \"condition\", is our **prediction target**.\n",
    "\n",
    "1.  **age**: age in years\n",
    "\n",
    "\n",
    "2.  **sex**: sex (1 = male; 0 = female)\n",
    "\n",
    "\n",
    "3.  **cp**: chest pain type\n",
    "    *  Value 0: typical angina\n",
    "    *  Value 1: atypical angina\n",
    "    *  Value 2: non-anginal pain\n",
    "    *  Value 3: asymptomatic\n",
    "    \n",
    "    \n",
    "4.  **trestbps**: resting blood pressure (in mm Hg on admission to the hospital)\n",
    "              anything above 130-140 is typically cause for concern.\n",
    "              \n",
    "              \n",
    "5.  **chol**: serum cholestoral in mg/dl\n",
    "              serum = LDL + HDL + .2 * triglycerides,\n",
    "              above 200 is cause for concern\n",
    "              \n",
    "          \n",
    "6.  **fbs**: (fasting blood sugar > 120 mg/dl) (1 = true; 0 = false)\n",
    "             >126 mg/dL signals diabetes.\n",
    "             \n",
    "\n",
    "7.  **restecg**: resting electrocardiographic results\n",
    "    *  Value 0: normal\n",
    "    *  Value 1: having ST-T wave abnormality (T wave inversions and/or ST elevation or depression of > 0.05 mV)\n",
    "                - can range from mild symptoms to severe problems.\n",
    "                - signals non-normal heart beat.\n",
    "    *  Value 2: showing probable or definite left ventricular hypertrophy by Estes' criteria.\n",
    "                Enlarged heart's main pumping chamber.\n",
    "                \n",
    "    \n",
    "8.  **thalach**: maximum heart rate achieved\n",
    "\n",
    "\n",
    "9.  **exang**: exercise induced angina (1 = yes; 0 = no)\n",
    "\n",
    "\n",
    "10. **oldpeak** : ST depression induced by exercise relative to rest\n",
    "                  Looks at stress of heart during excercise.\n",
    "                  Unhealthy heart will stress more.\n",
    "                  \n",
    "\n",
    "11. **slope**: the slope of the peak exercise ST segment\n",
    "               * 0: Upsloping: better heart rate with excercise (uncommon).\n",
    "               * 1: Flatsloping: minimal change (typical healthy heart).\n",
    "               * 2: Downsloping: signs of unhealthy heart.\n",
    "               \n",
    "    \n",
    "12. **ca**: number of major vessels (0-3) colored by flouroscopy\n",
    "            Colored vessel means the doctor can see the blood passing through.\n",
    "            The more blood movement the better (no clots).\n",
    "            \n",
    "\n",
    "13. **thal**: Thalium stress result.\n",
    "        0 = normal; \n",
    "        1 = fixed defect; \n",
    "        2 = reversable defect\n",
    "        \n",
    " \n",
    "14. **condition**: \n",
    "             0 = no disease;\n",
    "             1 = disease"
   ]
  },
  {
   "cell_type": "markdown",
   "metadata": {},
   "source": [
    "## END GOAL\n",
    "\n",
    "The 2 main purposes of this project are:\n",
    "* To create a model which can predict the presence of heart disease with a reasonable accuracy (TARGETED ACCURACY:85%).\n",
    "* To find out which of the given variables have a critical contribution towards a heart ailment."
   ]
  },
  {
   "cell_type": "markdown",
   "metadata": {},
   "source": [
    "## IMPORTING REQUIRED LIBRARIES AND METHODS"
   ]
  },
  {
   "cell_type": "code",
   "execution_count": 2,
   "metadata": {},
   "outputs": [],
   "source": [
    "import numpy as np\n",
    "import pandas as pd\n",
    "import matplotlib.pyplot as plt\n",
    "import seaborn as sns\n",
    "import plotly.express as px\n",
    "sns.set()\n",
    "\n",
    "%matplotlib inline\n",
    "\n",
    "from sklearn.linear_model import LogisticRegression\n",
    "from sklearn.neighbors import KNeighborsClassifier\n",
    "from sklearn.ensemble import RandomForestClassifier\n",
    "from sklearn.ensemble import GradientBoostingClassifier,BaggingClassifier, AdaBoostClassifier, ExtraTreesClassifier\n",
    "\n",
    "\n",
    "from sklearn.model_selection import train_test_split, cross_val_score\n",
    "from sklearn.model_selection import RandomizedSearchCV, GridSearchCV\n",
    "from sklearn.metrics import confusion_matrix, classification_report\n",
    "from sklearn.metrics import precision_score, recall_score, f1_score\n",
    "from sklearn.metrics import plot_roc_curve"
   ]
  },
  {
   "cell_type": "markdown",
   "metadata": {},
   "source": [
    "## LOADING THE DATA"
   ]
  },
  {
   "cell_type": "code",
   "execution_count": 3,
   "metadata": {},
   "outputs": [
    {
     "data": {
      "text/plain": [
       "(297, 14)"
      ]
     },
     "execution_count": 3,
     "metadata": {},
     "output_type": "execute_result"
    }
   ],
   "source": [
    "df = pd.read_csv('heart_cleveland_upload.csv')\n",
    "## Reading the CSV file as a pandas DataFrame\n",
    "df.shape \n",
    "## Checking the dimensions of the DataFrame (Rows:297,Columns:14)"
   ]
  },
  {
   "cell_type": "markdown",
   "metadata": {},
   "source": [
    "## EXPLORATORY DATA ANALYSIS\n",
    "\n",
    "POINTS TO BE ADDRESSED:\n",
    "  * What kind of data do we have and how do we treat them differently?\n",
    "  * Is there any missing data? If yes then how do we deal with it?\n",
    "  * How does the presence of outliers affect the data?\n",
    "  * How do some individual features affect our prediction target?\n",
    "    "
   ]
  },
  {
   "cell_type": "code",
   "execution_count": 4,
   "metadata": {},
   "outputs": [
    {
     "data": {
      "text/html": [
       "<div>\n",
       "<style scoped>\n",
       "    .dataframe tbody tr th:only-of-type {\n",
       "        vertical-align: middle;\n",
       "    }\n",
       "\n",
       "    .dataframe tbody tr th {\n",
       "        vertical-align: top;\n",
       "    }\n",
       "\n",
       "    .dataframe thead th {\n",
       "        text-align: right;\n",
       "    }\n",
       "</style>\n",
       "<table border=\"1\" class=\"dataframe\">\n",
       "  <thead>\n",
       "    <tr style=\"text-align: right;\">\n",
       "      <th></th>\n",
       "      <th>age</th>\n",
       "      <th>sex</th>\n",
       "      <th>cp</th>\n",
       "      <th>trestbps</th>\n",
       "      <th>chol</th>\n",
       "      <th>fbs</th>\n",
       "      <th>restecg</th>\n",
       "      <th>thalach</th>\n",
       "      <th>exang</th>\n",
       "      <th>oldpeak</th>\n",
       "      <th>slope</th>\n",
       "      <th>ca</th>\n",
       "      <th>thal</th>\n",
       "      <th>condition</th>\n",
       "    </tr>\n",
       "  </thead>\n",
       "  <tbody>\n",
       "    <tr>\n",
       "      <th>0</th>\n",
       "      <td>69</td>\n",
       "      <td>1</td>\n",
       "      <td>0</td>\n",
       "      <td>160</td>\n",
       "      <td>234</td>\n",
       "      <td>1</td>\n",
       "      <td>2</td>\n",
       "      <td>131</td>\n",
       "      <td>0</td>\n",
       "      <td>0.1</td>\n",
       "      <td>1</td>\n",
       "      <td>1</td>\n",
       "      <td>0</td>\n",
       "      <td>0</td>\n",
       "    </tr>\n",
       "    <tr>\n",
       "      <th>1</th>\n",
       "      <td>69</td>\n",
       "      <td>0</td>\n",
       "      <td>0</td>\n",
       "      <td>140</td>\n",
       "      <td>239</td>\n",
       "      <td>0</td>\n",
       "      <td>0</td>\n",
       "      <td>151</td>\n",
       "      <td>0</td>\n",
       "      <td>1.8</td>\n",
       "      <td>0</td>\n",
       "      <td>2</td>\n",
       "      <td>0</td>\n",
       "      <td>0</td>\n",
       "    </tr>\n",
       "    <tr>\n",
       "      <th>2</th>\n",
       "      <td>66</td>\n",
       "      <td>0</td>\n",
       "      <td>0</td>\n",
       "      <td>150</td>\n",
       "      <td>226</td>\n",
       "      <td>0</td>\n",
       "      <td>0</td>\n",
       "      <td>114</td>\n",
       "      <td>0</td>\n",
       "      <td>2.6</td>\n",
       "      <td>2</td>\n",
       "      <td>0</td>\n",
       "      <td>0</td>\n",
       "      <td>0</td>\n",
       "    </tr>\n",
       "    <tr>\n",
       "      <th>3</th>\n",
       "      <td>65</td>\n",
       "      <td>1</td>\n",
       "      <td>0</td>\n",
       "      <td>138</td>\n",
       "      <td>282</td>\n",
       "      <td>1</td>\n",
       "      <td>2</td>\n",
       "      <td>174</td>\n",
       "      <td>0</td>\n",
       "      <td>1.4</td>\n",
       "      <td>1</td>\n",
       "      <td>1</td>\n",
       "      <td>0</td>\n",
       "      <td>1</td>\n",
       "    </tr>\n",
       "    <tr>\n",
       "      <th>4</th>\n",
       "      <td>64</td>\n",
       "      <td>1</td>\n",
       "      <td>0</td>\n",
       "      <td>110</td>\n",
       "      <td>211</td>\n",
       "      <td>0</td>\n",
       "      <td>2</td>\n",
       "      <td>144</td>\n",
       "      <td>1</td>\n",
       "      <td>1.8</td>\n",
       "      <td>1</td>\n",
       "      <td>0</td>\n",
       "      <td>0</td>\n",
       "      <td>0</td>\n",
       "    </tr>\n",
       "  </tbody>\n",
       "</table>\n",
       "</div>"
      ],
      "text/plain": [
       "   age  sex  cp  trestbps  chol  fbs  restecg  thalach  exang  oldpeak  slope  \\\n",
       "0   69    1   0       160   234    1        2      131      0      0.1      1   \n",
       "1   69    0   0       140   239    0        0      151      0      1.8      0   \n",
       "2   66    0   0       150   226    0        0      114      0      2.6      2   \n",
       "3   65    1   0       138   282    1        2      174      0      1.4      1   \n",
       "4   64    1   0       110   211    0        2      144      1      1.8      1   \n",
       "\n",
       "   ca  thal  condition  \n",
       "0   1     0          0  \n",
       "1   2     0          0  \n",
       "2   0     0          0  \n",
       "3   1     0          1  \n",
       "4   0     0          0  "
      ]
     },
     "execution_count": 4,
     "metadata": {},
     "output_type": "execute_result"
    }
   ],
   "source": [
    "df.head() \n",
    "## Looking at the first 5 rows of the entire dataset"
   ]
  },
  {
   "cell_type": "code",
   "execution_count": 5,
   "metadata": {},
   "outputs": [
    {
     "data": {
      "text/plain": [
       "0    160\n",
       "1    137\n",
       "Name: condition, dtype: int64"
      ]
     },
     "execution_count": 5,
     "metadata": {},
     "output_type": "execute_result"
    }
   ],
   "source": [
    "df.condition.value_counts() \n",
    "## Checking the number of cases of heart disease in the entire dataset"
   ]
  },
  {
   "cell_type": "code",
   "execution_count": 6,
   "metadata": {},
   "outputs": [
    {
     "data": {
      "text/plain": [
       "Text(0, 0.5, 'No. of patients')"
      ]
     },
     "execution_count": 6,
     "metadata": {},
     "output_type": "execute_result"
    },
    {
     "data": {
      "image/png": "[encoded data removed]",
      "text/plain": [
       "<Figure size 432x288 with 1 Axes>"
      ]
     },
     "metadata": {
      "needs_background": "light"
     },
     "output_type": "display_data"
    }
   ],
   "source": [
    "df['condition'].value_counts().plot(kind='bar', color=['teal','crimson']);\n",
    "plt.xlabel('Condition')\n",
    "plt.ylabel('No. of patients')"
   ]
  },
  {
   "cell_type": "markdown",
   "metadata": {},
   "source": [
    "**INFERENCE**: Out of the 297 entries in the dataset, 160 patients don't have any heart disease and 137 patients suffer from heart ailments"
   ]
  },
  {
   "cell_type": "code",
   "execution_count": 7,
   "metadata": {},
   "outputs": [
    {
     "name": "stdout",
     "output_type": "stream",
     "text": [
      "<class 'pandas.core.frame.DataFrame'>\n",
      "RangeIndex: 297 entries, 0 to 296\n",
      "Data columns (total 14 columns):\n",
      " #   Column     Non-Null Count  Dtype  \n",
      "---  ------     --------------  -----  \n",
      " 0   age        297 non-null    int64  \n",
      " 1   sex        297 non-null    int64  \n",
      " 2   cp         297 non-null    int64  \n",
      " 3   trestbps   297 non-null    int64  \n",
      " 4   chol       297 non-null    int64  \n",
      " 5   fbs        297 non-null    int64  \n",
      " 6   restecg    297 non-null    int64  \n",
      " 7   thalach    297 non-null    int64  \n",
      " 8   exang      297 non-null    int64  \n",
      " 9   oldpeak    297 non-null    float64\n",
      " 10  slope      297 non-null    int64  \n",
      " 11  ca         297 non-null    int64  \n",
      " 12  thal       297 non-null    int64  \n",
      " 13  condition  297 non-null    int64  \n",
      "dtypes: float64(1), int64(13)\n",
      "memory usage: 32.6 KB\n"
     ]
    }
   ],
   "source": [
    "df.info() ## Checking some general information "
   ]
  },
  {
   "cell_type": "markdown",
   "metadata": {},
   "source": [
    "**INFERENCE**: Since the non-null count of each variable is 297, there are no missing values in the dataset"
   ]
  },
  {
   "cell_type": "code",
   "execution_count": 8,
   "metadata": {},
   "outputs": [
    {
     "data": {
      "text/html": [
       "<div>\n",
       "<style scoped>\n",
       "    .dataframe tbody tr th:only-of-type {\n",
       "        vertical-align: middle;\n",
       "    }\n",
       "\n",
       "    .dataframe tbody tr th {\n",
       "        vertical-align: top;\n",
       "    }\n",
       "\n",
       "    .dataframe thead th {\n",
       "        text-align: right;\n",
       "    }\n",
       "</style>\n",
       "<table border=\"1\" class=\"dataframe\">\n",
       "  <thead>\n",
       "    <tr style=\"text-align: right;\">\n",
       "      <th></th>\n",
       "      <th>age</th>\n",
       "      <th>sex</th>\n",
       "      <th>cp</th>\n",
       "      <th>trestbps</th>\n",
       "      <th>chol</th>\n",
       "      <th>fbs</th>\n",
       "      <th>restecg</th>\n",
       "      <th>thalach</th>\n",
       "      <th>exang</th>\n",
       "      <th>oldpeak</th>\n",
       "      <th>slope</th>\n",
       "      <th>ca</th>\n",
       "      <th>thal</th>\n",
       "      <th>condition</th>\n",
       "    </tr>\n",
       "  </thead>\n",
       "  <tbody>\n",
       "    <tr>\n",
       "      <th>count</th>\n",
       "      <td>297.000000</td>\n",
       "      <td>297.000000</td>\n",
       "      <td>297.000000</td>\n",
       "      <td>297.000000</td>\n",
       "      <td>297.000000</td>\n",
       "      <td>297.000000</td>\n",
       "      <td>297.000000</td>\n",
       "      <td>297.000000</td>\n",
       "      <td>297.000000</td>\n",
       "      <td>297.000000</td>\n",
       "      <td>297.000000</td>\n",
       "      <td>297.000000</td>\n",
       "      <td>297.000000</td>\n",
       "      <td>297.000000</td>\n",
       "    </tr>\n",
       "    <tr>\n",
       "      <th>mean</th>\n",
       "      <td>54.542088</td>\n",
       "      <td>0.676768</td>\n",
       "      <td>2.158249</td>\n",
       "      <td>131.693603</td>\n",
       "      <td>247.350168</td>\n",
       "      <td>0.144781</td>\n",
       "      <td>0.996633</td>\n",
       "      <td>149.599327</td>\n",
       "      <td>0.326599</td>\n",
       "      <td>1.055556</td>\n",
       "      <td>0.602694</td>\n",
       "      <td>0.676768</td>\n",
       "      <td>0.835017</td>\n",
       "      <td>0.461279</td>\n",
       "    </tr>\n",
       "    <tr>\n",
       "      <th>std</th>\n",
       "      <td>9.049736</td>\n",
       "      <td>0.468500</td>\n",
       "      <td>0.964859</td>\n",
       "      <td>17.762806</td>\n",
       "      <td>51.997583</td>\n",
       "      <td>0.352474</td>\n",
       "      <td>0.994914</td>\n",
       "      <td>22.941562</td>\n",
       "      <td>0.469761</td>\n",
       "      <td>1.166123</td>\n",
       "      <td>0.618187</td>\n",
       "      <td>0.938965</td>\n",
       "      <td>0.956690</td>\n",
       "      <td>0.499340</td>\n",
       "    </tr>\n",
       "    <tr>\n",
       "      <th>min</th>\n",
       "      <td>29.000000</td>\n",
       "      <td>0.000000</td>\n",
       "      <td>0.000000</td>\n",
       "      <td>94.000000</td>\n",
       "      <td>126.000000</td>\n",
       "      <td>0.000000</td>\n",
       "      <td>0.000000</td>\n",
       "      <td>71.000000</td>\n",
       "      <td>0.000000</td>\n",
       "      <td>0.000000</td>\n",
       "      <td>0.000000</td>\n",
       "      <td>0.000000</td>\n",
       "      <td>0.000000</td>\n",
       "      <td>0.000000</td>\n",
       "    </tr>\n",
       "    <tr>\n",
       "      <th>25%</th>\n",
       "      <td>48.000000</td>\n",
       "      <td>0.000000</td>\n",
       "      <td>2.000000</td>\n",
       "      <td>120.000000</td>\n",
       "      <td>211.000000</td>\n",
       "      <td>0.000000</td>\n",
       "      <td>0.000000</td>\n",
       "      <td>133.000000</td>\n",
       "      <td>0.000000</td>\n",
       "      <td>0.000000</td>\n",
       "      <td>0.000000</td>\n",
       "      <td>0.000000</td>\n",
       "      <td>0.000000</td>\n",
       "      <td>0.000000</td>\n",
       "    </tr>\n",
       "    <tr>\n",
       "      <th>50%</th>\n",
       "      <td>56.000000</td>\n",
       "      <td>1.000000</td>\n",
       "      <td>2.000000</td>\n",
       "      <td>130.000000</td>\n",
       "      <td>243.000000</td>\n",
       "      <td>0.000000</td>\n",
       "      <td>1.000000</td>\n",
       "      <td>153.000000</td>\n",
       "      <td>0.000000</td>\n",
       "      <td>0.800000</td>\n",
       "      <td>1.000000</td>\n",
       "      <td>0.000000</td>\n",
       "      <td>0.000000</td>\n",
       "      <td>0.000000</td>\n",
       "    </tr>\n",
       "    <tr>\n",
       "      <th>75%</th>\n",
       "      <td>61.000000</td>\n",
       "      <td>1.000000</td>\n",
       "      <td>3.000000</td>\n",
       "      <td>140.000000</td>\n",
       "      <td>276.000000</td>\n",
       "      <td>0.000000</td>\n",
       "      <td>2.000000</td>\n",
       "      <td>166.000000</td>\n",
       "      <td>1.000000</td>\n",
       "      <td>1.600000</td>\n",
       "      <td>1.000000</td>\n",
       "      <td>1.000000</td>\n",
       "      <td>2.000000</td>\n",
       "      <td>1.000000</td>\n",
       "    </tr>\n",
       "    <tr>\n",
       "      <th>max</th>\n",
       "      <td>77.000000</td>\n",
       "      <td>1.000000</td>\n",
       "      <td>3.000000</td>\n",
       "      <td>200.000000</td>\n",
       "      <td>564.000000</td>\n",
       "      <td>1.000000</td>\n",
       "      <td>2.000000</td>\n",
       "      <td>202.000000</td>\n",
       "      <td>1.000000</td>\n",
       "      <td>6.200000</td>\n",
       "      <td>2.000000</td>\n",
       "      <td>3.000000</td>\n",
       "      <td>2.000000</td>\n",
       "      <td>1.000000</td>\n",
       "    </tr>\n",
       "  </tbody>\n",
       "</table>\n",
       "</div>"
      ],
      "text/plain": [
       "              age         sex          cp    trestbps        chol         fbs  \\\n",
       "count  297.000000  297.000000  297.000000  297.000000  297.000000  297.000000   \n",
       "mean    54.542088    0.676768    2.158249  131.693603  247.350168    0.144781   \n",
       "std      9.049736    0.468500    0.964859   17.762806   51.997583    0.352474   \n",
       "min     29.000000    0.000000    0.000000   94.000000  126.000000    0.000000   \n",
       "25%     48.000000    0.000000    2.000000  120.000000  211.000000    0.000000   \n",
       "50%     56.000000    1.000000    2.000000  130.000000  243.000000    0.000000   \n",
       "75%     61.000000    1.000000    3.000000  140.000000  276.000000    0.000000   \n",
       "max     77.000000    1.000000    3.000000  200.000000  564.000000    1.000000   \n",
       "\n",
       "          restecg     thalach       exang     oldpeak       slope          ca  \\\n",
       "count  297.000000  297.000000  297.000000  297.000000  297.000000  297.000000   \n",
       "mean     0.996633  149.599327    0.326599    1.055556    0.602694    0.676768   \n",
       "std      0.994914   22.941562    0.469761    1.166123    0.618187    0.938965   \n",
       "min      0.000000   71.000000    0.000000    0.000000    0.000000    0.000000   \n",
       "25%      0.000000  133.000000    0.000000    0.000000    0.000000    0.000000   \n",
       "50%      1.000000  153.000000    0.000000    0.800000    1.000000    0.000000   \n",
       "75%      2.000000  166.000000    1.000000    1.600000    1.000000    1.000000   \n",
       "max      2.000000  202.000000    1.000000    6.200000    2.000000    3.000000   \n",
       "\n",
       "             thal   condition  \n",
       "count  297.000000  297.000000  \n",
       "mean     0.835017    0.461279  \n",
       "std      0.956690    0.499340  \n",
       "min      0.000000    0.000000  \n",
       "25%      0.000000    0.000000  \n",
       "50%      0.000000    0.000000  \n",
       "75%      2.000000    1.000000  \n",
       "max      2.000000    1.000000  "
      ]
     },
     "execution_count": 8,
     "metadata": {},
     "output_type": "execute_result"
    }
   ],
   "source": [
    "df.describe() ## A brief statistical summary of the dataset"
   ]
  },
  {
   "cell_type": "markdown",
   "metadata": {},
   "source": [
    "**INFERENCES**:\n",
    "* Average age of all patients in the dataset is 54.54 years.\n",
    "* Average of the sex column is 0.68 which indicates that male patients slightly outnumber the female patients in the dataset.\n",
    "* The age range of the patients in the dataset is from 29 to 77. "
   ]
  },
  {
   "cell_type": "code",
   "execution_count": 9,
   "metadata": {},
   "outputs": [
    {
     "data": {
      "text/plain": [
       "array([[<AxesSubplot:title={'center':'age'}>,\n",
       "        <AxesSubplot:title={'center':'sex'}>,\n",
       "        <AxesSubplot:title={'center':'cp'}>,\n",
       "        <AxesSubplot:title={'center':'trestbps'}>],\n",
       "       [<AxesSubplot:title={'center':'chol'}>,\n",
       "        <AxesSubplot:title={'center':'fbs'}>,\n",
       "        <AxesSubplot:title={'center':'restecg'}>,\n",
       "        <AxesSubplot:title={'center':'thalach'}>],\n",
       "       [<AxesSubplot:title={'center':'exang'}>,\n",
       "        <AxesSubplot:title={'center':'oldpeak'}>,\n",
       "        <AxesSubplot:title={'center':'slope'}>,\n",
       "        <AxesSubplot:title={'center':'ca'}>],\n",
       "       [<AxesSubplot:title={'center':'thal'}>,\n",
       "        <AxesSubplot:title={'center':'condition'}>, <AxesSubplot:>,\n",
       "        <AxesSubplot:>]], dtype=object)"
      ]
     },
     "execution_count": 9,
     "metadata": {},
     "output_type": "execute_result"
    },
    {
     "data": {
      "image/png": "[encoded data removed]",
      "text/plain": [
       "<Figure size 1296x1440 with 16 Axes>"
      ]
     },
     "metadata": {
      "needs_background": "light"
     },
     "output_type": "display_data"
    }
   ],
   "source": [
    "df.hist(figsize=(18,20)) ## Checking the overall distribution of all variables"
   ]
  },
  {
   "cell_type": "markdown",
   "metadata": {},
   "source": [
    "**INFERENCE**: \n",
    "* The dataset contains both numerical and categorical data.\n",
    "\n",
    "**NUMERIC DATA**:\n",
    "* ***age***: Follows normal distribution approximaely. Most of the patients are 50 to 70 years old.\n",
    "* ***trestbps***: Follows normal distrubution approximately but there are a few outliers in the range of 170 to 200.\n",
    "* ***chol***: Follows normal distribution approximately. Very few outliers are present, some in the range 350-420 and very few above 500\n",
    "* ***thalach***: This too can be approximated as a normal distribution. Outliers are present in the range 75-100 and some around 200\n",
    "\n",
    "**CATEGORICAL DATA**:\n",
    "* ***sex***: The number of male patients is more than twice the number of female patients in the dataset. This non-uniformity can introduce some deviations in our analysis if sex and condition are found to be strongly related.\n",
    "* ***fbs***: Most of the patients in our dataset are non-diabetic. For increasing our accuracy, we might have to include more diabetic patients in our analysis.\n",
    "* ***exang***: Most of the patients do not suffer from exercise induced angina. This is yet another skewness in our data which might affect the accuracy of our model.\n",
    "* ***slope***: Very few patients have a downsloping condition.\n",
    "\n",
    "\n",
    "This brief overview of our data suggests that there is still scope for improving the dataset. Some suggestions for improvement are as follows:\n",
    "* Removal of outliers from numeric data wherever possible.\n",
    "* Inclusion of a greater number of female participants in the dataset.\n",
    "* Inclusion of more diabetic patients in the dataset.\n",
    "* Inclusion of more patients having exercise induced angina."
   ]
  },
  {
   "cell_type": "markdown",
   "metadata": {},
   "source": [
    "## CORRELATION MATRIX AND ITS VISUALISATION\n",
    "\n",
    "The correlation matrix helps us to understand the interrelation between our features as well as between different features and our prediction target. This will give us some preliminary insight into the most and the least significannt features. There are two types of correlations that can occur:\n",
    "\n",
    "* **POSITIVE CORRELATION**: Two variables are said to be postively correlated when increase in one leads to an increase in the other and a decrease in one leads to a decrease in the other.\n",
    "\n",
    "* **NEGATIVE CORRELATION**: Two variables are said to be negatively correlated when increase in one leads to a decrease in the other and a decrease in one leads to an increase in the other.\n"
   ]
  },
  {
   "cell_type": "code",
   "execution_count": 10,
   "metadata": {},
   "outputs": [
    {
     "data": {
      "image/png": "[encoded data removed]",
      "text/plain": [
       "<Figure size 1152x864 with 2 Axes>"
      ]
     },
     "metadata": {
      "needs_background": "light"
     },
     "output_type": "display_data"
    }
   ],
   "source": [
    "## Constructing the correlation matrix\n",
    "corr_matrix = df.corr()\n",
    "fig, ax = plt.subplots(figsize=(16,12))\n",
    "ax = sns.heatmap(corr_matrix, annot=True, linewidth=0.5, fmt=\".2f\", cmap='YlGn')"
   ]
  },
  {
   "cell_type": "markdown",
   "metadata": {},
   "source": [
    "The darker shades of green represent strong positive correlation whereas the lighter shades tending towards white indicate strong negative correlation. The colourbar on the right shows that 1 is the maximum correlation value attained whereas the minimum value lies somewhere around -0.4. Correlation of 1 is obtained when a variable is compared to itself.\n",
    "\n",
    "**NOTABLE INFERENCES**:\n",
    "* Thalium induced stress(thal) has a strong postive correlation (0.52) with condition.\n",
    "* Other features showing a strong positive correlation with condition are:\n",
    "  1. Number of major vessels coloured by fluoroscopy(ca): 0.46\n",
    "  2. Exercise induced angina(exang):0.42\n",
    "  3. ST depression induced by exercise(oldpeak):0.42\n",
    "  4. Type of chest pain(cp):0.41\n",
    "* Maximum heart rate achieved(thalach) has a strong negative correlation (-0.42) with condition.\n"
   ]
  },
  {
   "cell_type": "markdown",
   "metadata": {},
   "source": [
    "## MAJOR VESSELS COLOURED BY FLUOROSCOPY V/S CONDITION"
   ]
  },
  {
   "cell_type": "code",
   "execution_count": 11,
   "metadata": {},
   "outputs": [
    {
     "data": {
      "text/html": [
       "<div>\n",
       "<style scoped>\n",
       "    .dataframe tbody tr th:only-of-type {\n",
       "        vertical-align: middle;\n",
       "    }\n",
       "\n",
       "    .dataframe tbody tr th {\n",
       "        vertical-align: top;\n",
       "    }\n",
       "\n",
       "    .dataframe thead th {\n",
       "        text-align: right;\n",
       "    }\n",
       "</style>\n",
       "<table border=\"1\" class=\"dataframe\">\n",
       "  <thead>\n",
       "    <tr style=\"text-align: right;\">\n",
       "      <th>condition</th>\n",
       "      <th>0</th>\n",
       "      <th>1</th>\n",
       "    </tr>\n",
       "    <tr>\n",
       "      <th>ca</th>\n",
       "      <th></th>\n",
       "      <th></th>\n",
       "    </tr>\n",
       "  </thead>\n",
       "  <tbody>\n",
       "    <tr>\n",
       "      <th>0</th>\n",
       "      <td>129</td>\n",
       "      <td>45</td>\n",
       "    </tr>\n",
       "    <tr>\n",
       "      <th>1</th>\n",
       "      <td>21</td>\n",
       "      <td>44</td>\n",
       "    </tr>\n",
       "    <tr>\n",
       "      <th>2</th>\n",
       "      <td>7</td>\n",
       "      <td>31</td>\n",
       "    </tr>\n",
       "    <tr>\n",
       "      <th>3</th>\n",
       "      <td>3</td>\n",
       "      <td>17</td>\n",
       "    </tr>\n",
       "  </tbody>\n",
       "</table>\n",
       "</div>"
      ],
      "text/plain": [
       "condition    0   1\n",
       "ca                \n",
       "0          129  45\n",
       "1           21  44\n",
       "2            7  31\n",
       "3            3  17"
      ]
     },
     "execution_count": 11,
     "metadata": {},
     "output_type": "execute_result"
    }
   ],
   "source": [
    "pd.crosstab(df.ca, df.condition)  ## making a cross-table"
   ]
  },
  {
   "cell_type": "code",
   "execution_count": 12,
   "metadata": {},
   "outputs": [
    {
     "data": {
      "text/plain": [
       "<matplotlib.legend.Legend at 0x255eaea2340>"
      ]
     },
     "execution_count": 12,
     "metadata": {},
     "output_type": "execute_result"
    },
    {
     "data": {
      "image/png": "[encoded data removed]",
      "text/plain": [
       "<Figure size 720x432 with 1 Axes>"
      ]
     },
     "metadata": {
      "needs_background": "light"
     },
     "output_type": "display_data"
    }
   ],
   "source": [
    "## Visualizing the crosstable\n",
    "pd.crosstab(df.ca, df.condition).plot(kind='line', figsize=(10,6), color=['teal','crimson'])\n",
    "\n",
    "plt.title(\n",
    " 'Major Vessels coloured by Fluoroscopy vs Heart Disease'\n",
    ")\n",
    "\n",
    "plt.xlabel(\n",
    "    'Major Vessels coloured by Fluoroscopy'\n",
    ")\n",
    "\n",
    "plt.ylabel('Amount')\n",
    "plt.legend([' No Disease', 'Disease'])"
   ]
  },
  {
   "cell_type": "code",
   "execution_count": 13,
   "metadata": {},
   "outputs": [
    {
     "data": {
      "text/html": [
       "<div>\n",
       "<style scoped>\n",
       "    .dataframe tbody tr th:only-of-type {\n",
       "        vertical-align: middle;\n",
       "    }\n",
       "\n",
       "    .dataframe tbody tr th {\n",
       "        vertical-align: top;\n",
       "    }\n",
       "\n",
       "    .dataframe thead th {\n",
       "        text-align: right;\n",
       "    }\n",
       "</style>\n",
       "<table border=\"1\" class=\"dataframe\">\n",
       "  <thead>\n",
       "    <tr style=\"text-align: right;\">\n",
       "      <th>condition</th>\n",
       "      <th>0</th>\n",
       "      <th>1</th>\n",
       "      <th>Ratio: 1/0</th>\n",
       "    </tr>\n",
       "    <tr>\n",
       "      <th>ca</th>\n",
       "      <th></th>\n",
       "      <th></th>\n",
       "      <th></th>\n",
       "    </tr>\n",
       "  </thead>\n",
       "  <tbody>\n",
       "    <tr>\n",
       "      <th>0</th>\n",
       "      <td>129</td>\n",
       "      <td>45</td>\n",
       "      <td>0.348837</td>\n",
       "    </tr>\n",
       "    <tr>\n",
       "      <th>1</th>\n",
       "      <td>21</td>\n",
       "      <td>44</td>\n",
       "      <td>2.095238</td>\n",
       "    </tr>\n",
       "    <tr>\n",
       "      <th>2</th>\n",
       "      <td>7</td>\n",
       "      <td>31</td>\n",
       "      <td>4.428571</td>\n",
       "    </tr>\n",
       "    <tr>\n",
       "      <th>3</th>\n",
       "      <td>3</td>\n",
       "      <td>17</td>\n",
       "      <td>5.666667</td>\n",
       "    </tr>\n",
       "  </tbody>\n",
       "</table>\n",
       "</div>"
      ],
      "text/plain": [
       "condition    0   1  Ratio: 1/0\n",
       "ca                            \n",
       "0          129  45    0.348837\n",
       "1           21  44    2.095238\n",
       "2            7  31    4.428571\n",
       "3            3  17    5.666667"
      ]
     },
     "execution_count": 13,
     "metadata": {},
     "output_type": "execute_result"
    }
   ],
   "source": [
    "## Modifying cross-table\n",
    "df1 = pd.DataFrame(pd.crosstab(df.ca, df.condition))\n",
    "disease = df1.loc[:,1]\n",
    "no_disease = df1.loc[:,0]\n",
    "df1['Ratio: 1/0'] = disease/no_disease\n",
    "## Ratio of people having heart disease to people not having\n",
    "df1"
   ]
  },
  {
   "cell_type": "code",
   "execution_count": 14,
   "metadata": {},
   "outputs": [
    {
     "data": {
      "text/plain": [
       "Text(0, 0.5, 'Major vessels coloured by fluoroscopy')"
      ]
     },
     "execution_count": 14,
     "metadata": {},
     "output_type": "execute_result"
    },
    {
     "data": {
      "image/png": "[encoded data removed]",
      "text/plain": [
       "<Figure size 432x288 with 1 Axes>"
      ]
     },
     "metadata": {
      "needs_background": "light"
     },
     "output_type": "display_data"
    }
   ],
   "source": [
    "plt.plot(df1['Ratio: 1/0'],range(0,4)) \n",
    "# Plotting this ratio against major vessels coloured by fluoroscopy\n",
    "\n",
    "plt.title(\n",
    "    'Major vessels coloured by fluoroscopy v/s Ratio if people having disease to people not having'\n",
    ")\n",
    "\n",
    "plt.xlabel(\n",
    "    'Ratio of people having heart disease to people not having'\n",
    ")\n",
    "\n",
    "plt.ylabel('Major vessels coloured by fluoroscopy')"
   ]
  },
  {
   "cell_type": "markdown",
   "metadata": {},
   "source": [
    "**INFERENCES**:\n",
    "\n",
    "* The first plot indicates that majority of the patients have either 0 or 1 vessels coloured by fluoroscopy. Comparatively fewer patients have 3 or 4 vessels coloured.\n",
    "* As the number of vessels coloured increases, there is a  decreasing trend in both the patients having heart disease as well as patients free from heart disease.\n",
    "* The second plot indicates that as the number of vessels coloured by fluoroscopy increases, there is an almost linear increase in the ratio of patients having a heart disese to the patients not having any heart disease.\n",
    "*A medical expert might be able to enlighten us with reasons for the trends being observed."
   ]
  },
  {
   "cell_type": "markdown",
   "metadata": {},
   "source": [
    "## CHEST PAIN TYPE V/S CONDITION"
   ]
  },
  {
   "cell_type": "code",
   "execution_count": 15,
   "metadata": {},
   "outputs": [
    {
     "data": {
      "text/html": [
       "<div>\n",
       "<style scoped>\n",
       "    .dataframe tbody tr th:only-of-type {\n",
       "        vertical-align: middle;\n",
       "    }\n",
       "\n",
       "    .dataframe tbody tr th {\n",
       "        vertical-align: top;\n",
       "    }\n",
       "\n",
       "    .dataframe thead th {\n",
       "        text-align: right;\n",
       "    }\n",
       "</style>\n",
       "<table border=\"1\" class=\"dataframe\">\n",
       "  <thead>\n",
       "    <tr style=\"text-align: right;\">\n",
       "      <th>condition</th>\n",
       "      <th>0</th>\n",
       "      <th>1</th>\n",
       "    </tr>\n",
       "    <tr>\n",
       "      <th>cp</th>\n",
       "      <th></th>\n",
       "      <th></th>\n",
       "    </tr>\n",
       "  </thead>\n",
       "  <tbody>\n",
       "    <tr>\n",
       "      <th>0</th>\n",
       "      <td>16</td>\n",
       "      <td>7</td>\n",
       "    </tr>\n",
       "    <tr>\n",
       "      <th>1</th>\n",
       "      <td>40</td>\n",
       "      <td>9</td>\n",
       "    </tr>\n",
       "    <tr>\n",
       "      <th>2</th>\n",
       "      <td>65</td>\n",
       "      <td>18</td>\n",
       "    </tr>\n",
       "    <tr>\n",
       "      <th>3</th>\n",
       "      <td>39</td>\n",
       "      <td>103</td>\n",
       "    </tr>\n",
       "  </tbody>\n",
       "</table>\n",
       "</div>"
      ],
      "text/plain": [
       "condition   0    1\n",
       "cp                \n",
       "0          16    7\n",
       "1          40    9\n",
       "2          65   18\n",
       "3          39  103"
      ]
     },
     "execution_count": 15,
     "metadata": {},
     "output_type": "execute_result"
    }
   ],
   "source": [
    "pd.crosstab(df.cp, df.condition)"
   ]
  },
  {
   "cell_type": "code",
   "execution_count": 16,
   "metadata": {},
   "outputs": [
    {
     "data": {
      "text/plain": [
       "<matplotlib.legend.Legend at 0x255f157fd60>"
      ]
     },
     "execution_count": 16,
     "metadata": {},
     "output_type": "execute_result"
    },
    {
     "data": {
      "image/png": "[encoded data removed]",
      "text/plain": [
       "<Figure size 720x432 with 1 Axes>"
      ]
     },
     "metadata": {
      "needs_background": "light"
     },
     "output_type": "display_data"
    }
   ],
   "source": [
    "## CROSSTAB VISUALIZATION \n",
    "pd.crosstab(df.cp, df.condition).plot(kind='bar', \n",
    "                                      figsize=(10,6), \n",
    "                                      color=['teal','crimson'])\n",
    "\n",
    "plt.title('Chest Pain Type vs Heart Disease')\n",
    "plt.xlabel('Chest Pain Type')\n",
    "plt.ylabel('Amount')\n",
    "plt.legend([' No Disease', 'Disease'])"
   ]
  },
  {
   "cell_type": "markdown",
   "metadata": {},
   "source": [
    "**Chest Pain Types**:(FROM DATA DICTIONARY)\n",
    "\n",
    "* Value 0: typical angina\n",
    "* Value 1: atypical angina\n",
    "* Value 2: non-anginal pain\n",
    "* Value 3: asymptomatic\n",
    "\n",
    "**INFERENCES**:\n",
    "* As seen in the above plot, having asypmtomatic chest pain greatly increases a person's chance of having a heart disease\n",
    "\n",
    "We know that the older a person becomes, the older his/her heart becomes. Hence it might be possible to get some insights into the data if we plot the age and chest pain type together and check the variation in condition.\n"
   ]
  },
  {
   "cell_type": "markdown",
   "metadata": {},
   "source": [
    "## RELATION BETWEEN AGE AND CHEST PAIN TYPE FOR DETERMINING CONDITION"
   ]
  },
  {
   "cell_type": "code",
   "execution_count": 17,
   "metadata": {},
   "outputs": [
    {
     "data": {
      "text/plain": [
       "<matplotlib.legend.Legend at 0x255f1046b20>"
      ]
     },
     "execution_count": 17,
     "metadata": {},
     "output_type": "execute_result"
    },
    {
     "data": {
      "image/png": "[encoded data removed]",
      "text/plain": [
       "<Figure size 720x576 with 1 Axes>"
      ]
     },
     "metadata": {
      "needs_background": "light"
     },
     "output_type": "display_data"
    }
   ],
   "source": [
    "plt.figure(figsize=(10,8))\n",
    "plt.scatter(df.age[df.condition==0],df.cp[df.condition==0], color='teal')\n",
    "plt.scatter(df.age[df.condition==1], df.cp[df.condition==1], color='crimson')\n",
    "\n",
    "\n",
    "plt.title('Relation between Age and Chest Pain Type for determining Condition')\n",
    "plt.xlabel('AGE')\n",
    "plt.ylabel('CHEST PAIN TYPE')\n",
    "plt.legend(['No Disease','Disease'])"
   ]
  },
  {
   "cell_type": "markdown",
   "metadata": {},
   "source": [
    "**INFERENCES**:\n",
    "* From the above plot, 2 groups of people can be identified who tend to be highly susceptible to heart diseases:\n",
    "    1. People in the age group (40-70) having asymptomatic chest pain.\n",
    "    2. People in the age group (55-70) having non anginal chest pain."
   ]
  },
  {
   "cell_type": "markdown",
   "metadata": {},
   "source": [
    "## RELATION BETWEEN AGE AND MAXIMUM HEART RATE ACHIEVED"
   ]
  },
  {
   "cell_type": "code",
   "execution_count": 18,
   "metadata": {},
   "outputs": [
    {
     "data": {
      "text/plain": [
       "<matplotlib.legend.Legend at 0x255f1c05e80>"
      ]
     },
     "execution_count": 18,
     "metadata": {},
     "output_type": "execute_result"
    },
    {
     "data": {
      "image/png": "[encoded data removed]",
      "text/plain": [
       "<Figure size 720x432 with 1 Axes>"
      ]
     },
     "metadata": {
      "needs_background": "light"
     },
     "output_type": "display_data"
    }
   ],
   "source": [
    "plt.figure(figsize=(10,6))\n",
    "plt.scatter(df.age[df.condition==0],df.thalach[df.condition==0], color='teal')\n",
    "plt.scatter(df.age[df.condition==1], df.thalach[df.condition==1], color='crimson')\n",
    "\n",
    "plt.title('Influence of Age and Maximum Heart Rate on Heart Disease')\n",
    "plt.xlabel('AGE')\n",
    "plt.ylabel('MAX HEART RATE')\n",
    "plt.legend(['No Disease','Disease'])\n"
   ]
  },
  {
   "cell_type": "markdown",
   "metadata": {},
   "source": [
    "This plot does not give us any concrete quantitative conclusion, however a general inference that can be made is:\n",
    "* Older people having lower values of maximum heart rate are more likely to suffer from a heart ailment."
   ]
  },
  {
   "cell_type": "markdown",
   "metadata": {},
   "source": [
    "## MODELLING\n",
    "\n",
    "In this section, our goal is to make a predictive model for determining the value of condition based on the input features.\n",
    "Since this is a binary classification problem, we will try some classification algorithms provided by Sci-kit Learn python.\n",
    "The algorithms that we will try are:\n",
    "\n",
    "* LOGISTIC REGRESSION\n",
    "* K-NEIGHBORS CLASSIFIER\n",
    "* RANDOM FOREST\n",
    "* GRADIENT BOOSTING CLASSIFIER\n",
    "* BAGGING CLASSIFIER\n",
    "* ADA BOOST CLASSIFIER\n",
    "* EXTRA TREES CLASSIFIER"
   ]
  },
  {
   "cell_type": "code",
   "execution_count": 19,
   "metadata": {},
   "outputs": [],
   "source": [
    "X = df.drop('condition', axis=1)\n",
    "y = df.condition"
   ]
  },
  {
   "cell_type": "code",
   "execution_count": 20,
   "metadata": {},
   "outputs": [],
   "source": [
    "## Splitting data into training and test\n",
    "np.random.seed(42)\n",
    "\n",
    "test_X, train_X, test_y, train_y = train_test_split(X,y,test_size=0.2)"
   ]
  },
  {
   "cell_type": "code",
   "execution_count": 21,
   "metadata": {},
   "outputs": [],
   "source": [
    "# CREATING A DICTIONARY OF POSSIBLE MODELS TO BE USED\n",
    "\n",
    "models = {'Logistic Regression':LogisticRegression(),\n",
    "          'KNN':KNeighborsClassifier(),\n",
    "          'Random Forest':RandomForestClassifier(),\n",
    "          'GBClassifier':GradientBoostingClassifier(), \n",
    "          'BClassifier':BaggingClassifier(), \n",
    "          'ABClassifier':AdaBoostClassifier(),\n",
    "          'ETClassifier':ExtraTreesClassifier()}\n",
    "\n",
    "## DEFINING A FUNCTION CONTAININg ALL 3 MODELS\n",
    "\n",
    "def fit_and_score(models, test_X, train_X, test_y, train_y):\n",
    "    \"\"\"\n",
    "    For fitting and evaluating different machine learning models\n",
    "    models: A dictionary of sk learn ML models relevant to the problem\n",
    "    test_X: Testing data features\n",
    "    train_X: Training data features\n",
    "    test_y: Testing Target\n",
    "    train_y: Training Target\n",
    "    \"\"\"\n",
    "    ## Setting a random seed\n",
    "    np.random.seed(42)\n",
    "    \n",
    "    ## Empty dictionary to store all model scores\n",
    "    model_scores={}\n",
    "    ## Looping through all models\n",
    "    for name, model in models.items():\n",
    "        ## Fitting each model with training data\n",
    "        model.fit(train_X,train_y)\n",
    "        ## Evaluating each model with test data\n",
    "        model_scores[name]=model.score(test_X,test_y)\n",
    "    return model_scores"
   ]
  },
  {
   "cell_type": "code",
   "execution_count": 22,
   "metadata": {},
   "outputs": [
    {
     "name": "stderr",
     "output_type": "stream",
     "text": [
      "C:\\Users\\DELL\\anaconda3\\lib\\site-packages\\sklearn\\linear_model\\_logistic.py:762: ConvergenceWarning: lbfgs failed to converge (status=1):\n",
      "STOP: TOTAL NO. of ITERATIONS REACHED LIMIT.\n",
      "\n",
      "Increase the number of iterations (max_iter) or scale the data as shown in:\n",
      "    https://scikit-learn.org/stable/modules/preprocessing.html\n",
      "Please also refer to the documentation for alternative solver options:\n",
      "    https://scikit-learn.org/stable/modules/linear_model.html#logistic-regression\n",
      "  n_iter_i = _check_optimize_result(\n"
     ]
    },
    {
     "data": {
      "text/plain": [
       "{'Logistic Regression': 0.8354430379746836,\n",
       " 'KNN': 0.5738396624472574,\n",
       " 'Random Forest': 0.8016877637130801,\n",
       " 'GBClassifier': 0.759493670886076,\n",
       " 'BClassifier': 0.7848101265822784,\n",
       " 'ABClassifier': 0.6919831223628692,\n",
       " 'ETClassifier': 0.8143459915611815}"
      ]
     },
     "execution_count": 22,
     "metadata": {},
     "output_type": "execute_result"
    }
   ],
   "source": [
    "models = fit_and_score(models, test_X, train_X, test_y, train_y)\n",
    "models"
   ]
  },
  {
   "cell_type": "markdown",
   "metadata": {},
   "source": [
    "## MODEL COMPARISON"
   ]
  },
  {
   "cell_type": "code",
   "execution_count": 23,
   "metadata": {},
   "outputs": [
    {
     "data": {
      "text/plain": [
       "<AxesSubplot:>"
      ]
     },
     "execution_count": 23,
     "metadata": {},
     "output_type": "execute_result"
    },
    {
     "data": {
      "image/png": "[encoded data removed]",
      "text/plain": [
       "<Figure size 720x432 with 1 Axes>"
      ]
     },
     "metadata": {
      "needs_background": "light"
     },
     "output_type": "display_data"
    }
   ],
   "source": [
    "model_compare = pd.DataFrame(models, index=['accuracy'])\n",
    "model_compare.T.plot.bar(figsize=(10,6))"
   ]
  },
  {
   "cell_type": "markdown",
   "metadata": {},
   "source": [
    "Our aim is to create a model with at least 85% accuracy. Hence, from the plot, we will only proceed with the tuning of models that have a high accuracy for this dataset. From the chart, the three most highly accurate models for the given dataset are:\n",
    "\n",
    "* Logistic Regression (83.54%)\n",
    "* Extra Trees Classifier (81.43%)\n",
    "* Random Forest Classifier (80.16%)"
   ]
  },
  {
   "cell_type": "markdown",
   "metadata": {},
   "source": [
    "Hyperparameter tuning is necessary to improve the performance of our model. Each algorithm has a set of parameters which are assigned certain values. Changing the values of these parameters results in slight changes in the working of the algorithms and the results vary accordingly. **CROSS VALIDATION** is a useful technique to evaluate the performance of our model. Training the model on a given set of parameters and testing it on the same parameters is a mistake as we will always get the correct output for the training dataset, but we will never know how the model performed on data that is previously unknown to it.\n",
    "\n",
    "In **CROSS VALIDATION**, the training dataset is divided into 'k' smaller sets and the following process is followed for each of the 'k' subsets:\n",
    "* The model is trained using 'k-1' of the subsets.\n",
    "* The resulting model is validated on the remaining 1 subset.\n",
    "\n",
    "The performance metrics thus measured would be the average of the values computed in the loop. This process is a little expensive computationally, but it makes sure that not much of the data is wasted."
   ]
  },
  {
   "cell_type": "markdown",
   "metadata": {},
   "source": [
    "# MODEL IMPROVEMENT BY HYPERPARAMETER TUNING \n",
    "\n",
    "### Hyperparameter tuning is done for the three models using GridSearchCV, which is a Cross Validation approach implemented in scikit learn.\n",
    "\n"
   ]
  },
  {
   "cell_type": "markdown",
   "metadata": {},
   "source": [
    "## RANDOM FOREST CLASSIFIER"
   ]
  },
  {
   "cell_type": "code",
   "execution_count": 24,
   "metadata": {},
   "outputs": [
    {
     "name": "stdout",
     "output_type": "stream",
     "text": [
      "Fitting 14 folds for each of 50 candidates, totalling 700 fits\n"
     ]
    },
    {
     "name": "stderr",
     "output_type": "stream",
     "text": [
      "[Parallel(n_jobs=1)]: Using backend SequentialBackend with 1 concurrent workers.\n",
      "[Parallel(n_jobs=1)]: Done 700 out of 700 | elapsed:  1.8min finished\n"
     ]
    },
    {
     "data": {
      "text/plain": [
       "GridSearchCV(cv=14, estimator=RandomForestClassifier(),\n",
       "             param_grid={'max_leaf_nodes': array([10, 14, 18, 22, 26]),\n",
       "                         'min_samples_leaf': array([ 1,  3,  5,  7,  9, 11, 13, 15, 17, 19])},\n",
       "             verbose=True)"
      ]
     },
     "execution_count": 24,
     "metadata": {},
     "output_type": "execute_result"
    }
   ],
   "source": [
    "# Recreating a hyperparameter grid for GridSearch CV\n",
    "rf_grid1 = {##'n_estimators': np.arange(10,15,4),\n",
    "           ##'min_samples_split': np.arange(2,4,1),\n",
    "           'min_samples_leaf': np.arange(1,20,2),       ## Tuning hypeparameters\n",
    "           'max_leaf_nodes':np.arange(10,30,4),\n",
    "           ##'min_impurity_decrease':np.arange(10,50,5)\n",
    "           }\n",
    "np.random.seed(42)\n",
    "\n",
    "gd_rf= GridSearchCV(RandomForestClassifier(),\n",
    "                               param_grid = rf_grid1,\n",
    "                               cv=14,                   ## Implementing GridSearchCV\n",
    "                               verbose=True)\n",
    "\n",
    "#Fitting the Model on training data\n",
    "gd_rf.fit(train_X,train_y)\n",
    "\n"
   ]
  },
  {
   "cell_type": "code",
   "execution_count": 25,
   "metadata": {},
   "outputs": [
    {
     "name": "stdout",
     "output_type": "stream",
     "text": [
      "BEST PARAMETERS FOR RANDOM FORESTS:{'max_leaf_nodes': 10, 'min_samples_leaf': 5}\n"
     ]
    }
   ],
   "source": [
    "print('BEST PARAMETERS FOR RANDOM FORESTS:'+str(gd_rf.best_params_)) \n",
    "## Identifying best parameters"
   ]
  },
  {
   "cell_type": "code",
   "execution_count": 26,
   "metadata": {},
   "outputs": [
    {
     "name": "stdout",
     "output_type": "stream",
     "text": [
      "MODEL SCORE ON TEST DATA:0.8227848101265823\n"
     ]
    }
   ],
   "source": [
    "print('MODEL SCORE ON TEST DATA:'+str(gd_rf.score(test_X,test_y))) \n",
    "## Score of model on test data"
   ]
  },
  {
   "cell_type": "markdown",
   "metadata": {},
   "source": [
    "## EXTRA TREES CLASSIFIER"
   ]
  },
  {
   "cell_type": "code",
   "execution_count": 27,
   "metadata": {},
   "outputs": [],
   "source": [
    "# Recreating a hyperparameter grid for GridSearch CV\n",
    "et_grid={'n_estimators': np.arange(100,200,10),\n",
    "         ##'min_samples_leaf': np.arange(1,20,2),        ## Tuning hypeparameters\n",
    "         'max_leaf_nodes':np.arange(10,30,4),\n",
    "        }"
   ]
  },
  {
   "cell_type": "code",
   "execution_count": 28,
   "metadata": {},
   "outputs": [
    {
     "name": "stdout",
     "output_type": "stream",
     "text": [
      "Fitting 10 folds for each of 50 candidates, totalling 500 fits\n"
     ]
    },
    {
     "name": "stderr",
     "output_type": "stream",
     "text": [
      "[Parallel(n_jobs=1)]: Using backend SequentialBackend with 1 concurrent workers.\n",
      "[Parallel(n_jobs=1)]: Done 500 out of 500 | elapsed:  1.7min finished\n"
     ]
    },
    {
     "data": {
      "text/plain": [
       "GridSearchCV(cv=10, estimator=ExtraTreesClassifier(),\n",
       "             param_grid={'max_leaf_nodes': array([10, 14, 18, 22, 26]),\n",
       "                         'n_estimators': array([100, 110, 120, 130, 140, 150, 160, 170, 180, 190])},\n",
       "             verbose=True)"
      ]
     },
     "execution_count": 28,
     "metadata": {},
     "output_type": "execute_result"
    }
   ],
   "source": [
    "np.random.seed(42)\n",
    "\n",
    "gd_et= GridSearchCV(ExtraTreesClassifier(),\n",
    "                               param_grid = et_grid,\n",
    "                               cv=10,                   ## Implementing GridSearchCV\n",
    "                               verbose=True)\n",
    "\n",
    "#Fitting the Model on training data\n",
    "gd_et.fit(train_X,train_y)"
   ]
  },
  {
   "cell_type": "code",
   "execution_count": 29,
   "metadata": {},
   "outputs": [
    {
     "name": "stdout",
     "output_type": "stream",
     "text": [
      "BEST PARAMETERS FOR EXTRA TREES CLASSIFIER:{'max_leaf_nodes': 10, 'n_estimators': 120}\n"
     ]
    }
   ],
   "source": [
    "print('BEST PARAMETERS FOR EXTRA TREES CLASSIFIER:'+str(gd_et.best_params_))  \n",
    "## Identifying best parameters"
   ]
  },
  {
   "cell_type": "code",
   "execution_count": 30,
   "metadata": {},
   "outputs": [
    {
     "name": "stdout",
     "output_type": "stream",
     "text": [
      "MODEL SCORE ON TEST DATA:0.8438818565400844\n"
     ]
    }
   ],
   "source": [
    "print('MODEL SCORE ON TEST DATA:'+str(gd_et.score(test_X,test_y)))  \n",
    "## Score of model on test data"
   ]
  },
  {
   "cell_type": "markdown",
   "metadata": {},
   "source": [
    "## LOGISTIC REGRESSION"
   ]
  },
  {
   "cell_type": "code",
   "execution_count": 31,
   "metadata": {},
   "outputs": [
    {
     "name": "stdout",
     "output_type": "stream",
     "text": [
      "Fitting 14 folds for each of 30 candidates, totalling 420 fits\n"
     ]
    },
    {
     "name": "stderr",
     "output_type": "stream",
     "text": [
      "[Parallel(n_jobs=1)]: Using backend SequentialBackend with 1 concurrent workers.\n",
      "[Parallel(n_jobs=1)]: Done 420 out of 420 | elapsed:    2.7s finished\n"
     ]
    },
    {
     "data": {
      "text/plain": [
       "GridSearchCV(cv=14, estimator=LogisticRegression(),\n",
       "             param_grid={'C': array([1.00000000e-02, 1.37382380e-02, 1.88739182e-02, 2.59294380e-02,\n",
       "       3.56224789e-02, 4.89390092e-02, 6.72335754e-02, 9.23670857e-02,\n",
       "       1.26896100e-01, 1.74332882e-01, 2.39502662e-01, 3.29034456e-01,\n",
       "       4.52035366e-01, 6.21016942e-01, 8.53167852e-01, 1.17210230e+00,\n",
       "       1.61026203e+00, 2.21221629e+00, 3.03919538e+00, 4.17531894e+00,\n",
       "       5.73615251e+00, 7.88046282e+00, 1.08263673e+01, 1.48735211e+01,\n",
       "       2.04335972e+01, 2.80721620e+01, 3.85662042e+01, 5.29831691e+01,\n",
       "       7.27895384e+01, 1.00000000e+02]),\n",
       "                         'solver': ['liblinear']},\n",
       "             verbose=True)"
      ]
     },
     "execution_count": 31,
     "metadata": {},
     "output_type": "execute_result"
    }
   ],
   "source": [
    "# Recreating a hyperparameter grid for GridSearch CV\n",
    "log_reg_grid1 = {'C': np.logspace(-2,2,30),\n",
    "               'solver':['liblinear']}                  ## Tuning hypeparameters\n",
    "np.random.seed(42)\n",
    "\n",
    "gd_log_reg = GridSearchCV(LogisticRegression(),\n",
    "                         param_grid = log_reg_grid1,\n",
    "                         cv=14, verbose=True)           ## Implementing GridSearchCV\n",
    "\n",
    "gd_log_reg.fit(train_X, train_y)\n"
   ]
  },
  {
   "cell_type": "code",
   "execution_count": 32,
   "metadata": {},
   "outputs": [
    {
     "name": "stdout",
     "output_type": "stream",
     "text": [
      "BEST PARAMETERS FOR LOGISTIC REGRESSION:{'C': 0.06723357536499334, 'solver': 'liblinear'}\n"
     ]
    }
   ],
   "source": [
    "print('BEST PARAMETERS FOR LOGISTIC REGRESSION:'+str(gd_log_reg.best_params_))"
   ]
  },
  {
   "cell_type": "code",
   "execution_count": 33,
   "metadata": {},
   "outputs": [
    {
     "name": "stdout",
     "output_type": "stream",
     "text": [
      "MODEL SCORE ON TEST DATA:0.8481012658227848\n"
     ]
    }
   ],
   "source": [
    "print('MODEL SCORE ON TEST DATA:'+str(gd_log_reg.score(test_X,test_y)))"
   ]
  },
  {
   "cell_type": "markdown",
   "metadata": {},
   "source": [
    "## EVALUATION BEYOND ACCURACY\n",
    "\n",
    "For a classification problem like this one, model score on test data is not the only performance metric that should be used to gauge the effectiveness of the model. Other performance metrics that should also be determined to judge a classification model are:\n",
    "\n",
    "* ROC Curve and AUC(Area Under Curve) Score\n",
    "* Confusion Matrix\n",
    "* Precision\n",
    "* Recall\n",
    "* F1-Score\n",
    "\n",
    "To compare and evaluate, we need to make predictions first\n"
   ]
  },
  {
   "cell_type": "code",
   "execution_count": 34,
   "metadata": {},
   "outputs": [
    {
     "data": {
      "text/plain": [
       "array([1, 1, 0, 0, 1, 0, 0, 1, 0, 1, 0, 0, 1, 1, 1, 0, 0, 1, 0, 0, 0, 0,\n",
       "       1, 0, 0, 0, 0, 1, 1, 0, 0, 0, 0, 0, 0, 1, 0, 1, 0, 0, 1, 0, 1, 0,\n",
       "       0, 1, 0, 0, 0, 1, 1, 1, 0, 1, 0, 0, 1, 0, 1, 1, 0, 1, 0, 0, 0, 0,\n",
       "       0, 0, 1, 0, 0, 0, 1, 0, 0, 1, 0, 0, 0, 1, 0, 1, 1, 0, 1, 0, 0, 1,\n",
       "       0, 1, 1, 1, 1, 1, 0, 1, 0, 1, 0, 0, 0, 0, 1, 1, 1, 0, 0, 1, 0, 0,\n",
       "       0, 1, 0, 1, 1, 0, 1, 0, 0, 1, 0, 1, 0, 1, 1, 0, 0, 0, 0, 1, 1, 0,\n",
       "       1, 1, 0, 0, 0, 0, 0, 1, 1, 1, 1, 0, 0, 0, 1, 0, 0, 0, 0, 0, 0, 0,\n",
       "       0, 0, 1, 0, 1, 0, 0, 1, 0, 0, 1, 0, 0, 1, 1, 1, 1, 0, 0, 0, 1, 1,\n",
       "       0, 1, 1, 0, 1, 0, 1, 1, 1, 0, 1, 0, 0, 0, 0, 1, 0, 1, 0, 0, 0, 1,\n",
       "       0, 1, 0, 0, 0, 1, 0, 0, 1, 0, 0, 1, 1, 0, 1, 1, 0, 0, 1, 1, 0, 1,\n",
       "       0, 0, 0, 0, 0, 0, 0, 0, 1, 0, 1, 0, 1, 0, 1, 1, 0], dtype=int64)"
      ]
     },
     "execution_count": 34,
     "metadata": {},
     "output_type": "execute_result"
    }
   ],
   "source": [
    "## Making predictions using Test Data --- EXTRA TREES CLASSIFIER\n",
    "\n",
    "y_preds1 = gd_et.predict(test_X)\n",
    "y_preds1"
   ]
  },
  {
   "cell_type": "code",
   "execution_count": 35,
   "metadata": {},
   "outputs": [
    {
     "data": {
      "text/plain": [
       "array([1, 1, 0, 0, 1, 0, 0, 1, 1, 1, 0, 0, 1, 1, 1, 0, 0, 1, 0, 0, 0, 0,\n",
       "       1, 0, 0, 0, 0, 1, 1, 0, 0, 0, 0, 0, 0, 0, 0, 0, 0, 0, 1, 0, 1, 0,\n",
       "       0, 1, 1, 0, 0, 0, 1, 1, 0, 1, 0, 0, 1, 0, 1, 1, 0, 1, 0, 0, 0, 0,\n",
       "       0, 1, 1, 0, 1, 1, 1, 0, 0, 1, 0, 0, 0, 1, 0, 1, 1, 0, 1, 0, 0, 1,\n",
       "       0, 1, 0, 1, 1, 1, 0, 1, 0, 1, 0, 0, 0, 0, 1, 1, 0, 0, 0, 1, 0, 0,\n",
       "       0, 1, 0, 1, 1, 0, 1, 0, 0, 1, 1, 1, 0, 1, 1, 0, 0, 0, 0, 1, 1, 0,\n",
       "       1, 1, 0, 0, 0, 0, 0, 1, 1, 1, 1, 0, 0, 1, 1, 0, 0, 0, 0, 0, 0, 0,\n",
       "       1, 0, 0, 0, 1, 0, 0, 1, 0, 0, 0, 0, 0, 1, 1, 1, 1, 0, 0, 0, 1, 1,\n",
       "       0, 1, 1, 0, 1, 0, 0, 1, 1, 0, 1, 0, 0, 0, 0, 1, 0, 1, 1, 0, 0, 1,\n",
       "       0, 1, 0, 0, 0, 1, 0, 0, 1, 0, 0, 1, 1, 0, 1, 1, 0, 0, 1, 1, 0, 1,\n",
       "       0, 0, 0, 0, 0, 0, 0, 0, 1, 0, 0, 0, 0, 0, 1, 1, 0], dtype=int64)"
      ]
     },
     "execution_count": 35,
     "metadata": {},
     "output_type": "execute_result"
    }
   ],
   "source": [
    "## Making predictions using Test Data --- LOGISTIC REGRESSION\n",
    "\n",
    "y_preds2 = gd_log_reg.predict(test_X) \n",
    "y_preds2"
   ]
  },
  {
   "cell_type": "code",
   "execution_count": 36,
   "metadata": {},
   "outputs": [
    {
     "data": {
      "text/plain": [
       "273    1\n",
       "259    1\n",
       "30     0\n",
       "22     0\n",
       "277    1\n",
       "      ..\n",
       "188    0\n",
       "71     0\n",
       "106    1\n",
       "270    1\n",
       "102    0\n",
       "Name: condition, Length: 237, dtype: int64"
      ]
     },
     "execution_count": 36,
     "metadata": {},
     "output_type": "execute_result"
    }
   ],
   "source": [
    "test_y ## Actual condition values from test dataset"
   ]
  },
  {
   "cell_type": "code",
   "execution_count": 37,
   "metadata": {},
   "outputs": [
    {
     "data": {
      "text/plain": [
       "<sklearn.metrics._plot.roc_curve.RocCurveDisplay at 0x255f1866a00>"
      ]
     },
     "execution_count": 37,
     "metadata": {},
     "output_type": "execute_result"
    },
    {
     "data": {
      "image/png": "[encoded data removed]",
      "text/plain": [
       "<Figure size 432x288 with 1 Axes>"
      ]
     },
     "metadata": {
      "needs_background": "light"
     },
     "output_type": "display_data"
    }
   ],
   "source": [
    "# Plotting ROC Curve and calculating AUC Metric --- EXTRA TREES CLASSIFIER\n",
    "plot_roc_curve(gd_et, test_X, test_y)"
   ]
  },
  {
   "cell_type": "code",
   "execution_count": 38,
   "metadata": {},
   "outputs": [
    {
     "data": {
      "text/plain": [
       "<sklearn.metrics._plot.roc_curve.RocCurveDisplay at 0x255f17ed3d0>"
      ]
     },
     "execution_count": 38,
     "metadata": {},
     "output_type": "execute_result"
    },
    {
     "data": {
      "image/png": "[encoded data removed]",
      "text/plain": [
       "<Figure size 432x288 with 1 Axes>"
      ]
     },
     "metadata": {
      "needs_background": "light"
     },
     "output_type": "display_data"
    }
   ],
   "source": [
    "# Plotting ROC Curve and calculating AUC Metric --- LOGISTIC REGRESSION\n",
    "plot_roc_curve(gd_log_reg, test_X, test_y)\n"
   ]
  },
  {
   "cell_type": "markdown",
   "metadata": {},
   "source": [
    "Although the logistic regression model is slightly more accurate than the extra trees classifier, the area under the ROC curve for extra trees classifier is **0.91** which is greater than the **0.88** which is the value for logistic regression. We will therefore look at a few more metrics to compare these two models and finally decide which one to use for our prediction."
   ]
  },
  {
   "cell_type": "markdown",
   "metadata": {},
   "source": [
    "# CONFUSION MATRIX\n",
    "\n",
    "The confusion matrix gives us a quantitative insight into the accuracy of our model. It identifies the anomalies as:\n",
    "* **False Negatives**: When the patient has a heart problem in reality, but the model predicts otherwise.\n",
    "* **False Positives**: When the patient does not have a heart problem, but the model predicts otherwise.\n",
    "\n",
    "In our case, having false negatives is **worse** than having false positives."
   ]
  },
  {
   "cell_type": "code",
   "execution_count": 39,
   "metadata": {},
   "outputs": [
    {
     "data": {
      "image/png": "[encoded data removed]",
      "text/plain": [
       "<Figure size 216x216 with 1 Axes>"
      ]
     },
     "metadata": {},
     "output_type": "display_data"
    },
    {
     "data": {
      "image/png": "[encoded data removed]",
      "text/plain": [
       "<Figure size 216x216 with 1 Axes>"
      ]
     },
     "metadata": {},
     "output_type": "display_data"
    }
   ],
   "source": [
    "\n",
    "## Confusion Matrix\n",
    "\n",
    "sns.set(font_scale=1.5)\n",
    "\n",
    "def plot_conf_mat(test_y, y_preds1, y_preds2):\n",
    "    \"\"\"\n",
    "    Plots a confusion matrix using Seaborn's heatmap().\n",
    "    \"\"\"\n",
    "    fig, ax1 = plt.subplots(figsize=(3, 3))\n",
    "    ax1 = sns.heatmap(confusion_matrix(test_y, y_preds1),\n",
    "                     annot=True, # Annotate the boxes\n",
    "                     cbar=False)\n",
    "    plt.title('CONFUSION MATRIX FOR EXTRA TREES CLASSIFIER')\n",
    "    plt.xlabel(\"Predicted label\") # predictions go on the x-axis\n",
    "    plt.ylabel(\"True label\") # true labels go on the y-axis \n",
    "    \n",
    "    fig, ax2 = plt.subplots(figsize=(3, 3))\n",
    "    ax2 = sns.heatmap(confusion_matrix(test_y, y_preds2),\n",
    "                     annot=True, # Annotate the boxes\n",
    "                     cbar=False)\n",
    "    plt.title('CONFUSION MATRIX FOR LOGISTIC REGRESSION')\n",
    "    plt.xlabel(\"Predicted label\") # predictions go on the x-axis\n",
    "    plt.ylabel(\"True label\") # true labels go on the y-axis \n",
    "    \n",
    "plot_conf_mat(test_y, y_preds1, y_preds2)"
   ]
  },
  {
   "cell_type": "markdown",
   "metadata": {},
   "source": [
    "From the confusion matrices of the two models it is evident that our model is **exceptionally** accurate at predicting the **absence of heart problems** ie (true label = 0 and predicted label = 0)\n",
    "\n",
    "However they do give us some false positives and false negatives."
   ]
  },
  {
   "cell_type": "markdown",
   "metadata": {},
   "source": [
    "## CLASSIFICATION REPORT FOR BOTH MODELS\n",
    "\n",
    "The classification report for both models gives us an overview of the following metrics:\n",
    "* Precision\n",
    "* Recall\n",
    "* F1-Score"
   ]
  },
  {
   "cell_type": "code",
   "execution_count": 40,
   "metadata": {},
   "outputs": [
    {
     "name": "stdout",
     "output_type": "stream",
     "text": [
      "CLASSIFICATION REPORT FOR EXTRA TREES CLASSIFIER\n",
      "              precision    recall  f1-score   support\n",
      "\n",
      "           0       0.82      0.91      0.86       128\n",
      "           1       0.88      0.77      0.82       109\n",
      "\n",
      "    accuracy                           0.84       237\n",
      "   macro avg       0.85      0.84      0.84       237\n",
      "weighted avg       0.85      0.84      0.84       237\n",
      "\n",
      "-----------------------------------------------------------------------------------------------------------------\n",
      "CLASSIFICATION REPORT FOR LOGISTIC REGRESSION\n",
      "              precision    recall  f1-score   support\n",
      "\n",
      "           0       0.82      0.91      0.87       128\n",
      "           1       0.88      0.77      0.82       109\n",
      "\n",
      "    accuracy                           0.85       237\n",
      "   macro avg       0.85      0.84      0.85       237\n",
      "weighted avg       0.85      0.85      0.85       237\n",
      "\n"
     ]
    }
   ],
   "source": [
    "print('CLASSIFICATION REPORT FOR EXTRA TREES CLASSIFIER')\n",
    "print(classification_report(test_y,y_preds1))\n",
    "print(\"-----------------------------------------------------------------------------------------------------------------\")\n",
    "print('CLASSIFICATION REPORT FOR LOGISTIC REGRESSION')\n",
    "print(classification_report(test_y,y_preds2))"
   ]
  },
  {
   "cell_type": "markdown",
   "metadata": {},
   "source": [
    "From the two reports above, we can see that both our models have a very high value for all the metrics. However we have to choose any one of them for making our final predictions. In the following section of the notebook, we will figure out which model we are finally going to use. We will use the pre-determined best parameter values for both models and calculate the performance metrics again."
   ]
  },
  {
   "cell_type": "code",
   "execution_count": 41,
   "metadata": {},
   "outputs": [
    {
     "name": "stdout",
     "output_type": "stream",
     "text": [
      "BEST PARAMETERS FOR EXTRA TREES CLASSIFER:{'max_leaf_nodes': 10, 'n_estimators': 120}\n",
      "BEST PARAMETERS FOR LOGISTIC REGRESSION:{'C': 0.06723357536499334, 'solver': 'liblinear'}\n"
     ]
    }
   ],
   "source": [
    "## Calculate Evaluation Metrics using Cross Validation\n",
    "\n",
    "## Checking Best Parameters\n",
    "\n",
    "print('BEST PARAMETERS FOR EXTRA TREES CLASSIFER:'+ str(gd_et.best_params_))           \n",
    "## BEST PARAMETERS FOR EXTRA TREES CLASSIFER\n",
    "print('BEST PARAMETERS FOR LOGISTIC REGRESSION:'+ str(gd_log_reg.best_params_))     \n",
    "## BEST PARAMETERS FOR LOGISTIC REGRESSION"
   ]
  },
  {
   "cell_type": "code",
   "execution_count": 42,
   "metadata": {},
   "outputs": [],
   "source": [
    "## Creating a Classifier using the best parameters\n",
    "\n",
    "clf1 = ExtraTreesClassifier(max_leaf_nodes=10, n_estimators=120)\n",
    "clf2 = LogisticRegression(C=0.06723357536499334, solver='liblinear')"
   ]
  },
  {
   "cell_type": "code",
   "execution_count": 43,
   "metadata": {},
   "outputs": [
    {
     "name": "stdout",
     "output_type": "stream",
     "text": [
      "CROSS VALIDATED ACCURACY FOR EXTRA TREES CLASSIFIER: 0.8179310344827586\n",
      "CROSS VALIDATED ACCURACY FOR LOGISTIC REGRESSION: 0.8418390804597703\n"
     ]
    }
   ],
   "source": [
    "## Cross validated Accuracy\n",
    "\n",
    "cv_acc_et = cross_val_score(clf1,X,y,cv=10,scoring='accuracy')\n",
    "\n",
    "cv_acc_et = np.mean(cv_acc_et)\n",
    "\n",
    "cv_acc_log_reg = cross_val_score(clf2,X,y,cv=10,scoring='accuracy')\n",
    "\n",
    "cv_acc_log_reg = np.mean(cv_acc_log_reg)\n",
    "\n",
    "print('CROSS VALIDATED ACCURACY FOR EXTRA TREES CLASSIFIER:'+' '+ str(cv_acc_et))\n",
    "print('CROSS VALIDATED ACCURACY FOR LOGISTIC REGRESSION:'+' '+ str(cv_acc_log_reg))\n"
   ]
  },
  {
   "cell_type": "code",
   "execution_count": 44,
   "metadata": {},
   "outputs": [
    {
     "name": "stdout",
     "output_type": "stream",
     "text": [
      "CROSS VALIDATED PRECISION FOR EXTRA TREES CLASSIFIER: 0.8326976944624004\n",
      "CROSS VALIDATED PRECISION FOR LOGISTIC REGRESSION: 0.8609993927640985\n"
     ]
    }
   ],
   "source": [
    "## Cross validated precision\n",
    "cv_precision_et = cross_val_score(clf1,X,y,cv=10,scoring='precision')\n",
    "\n",
    "cv_precision_et = np.mean(cv_precision_et)\n",
    "\n",
    "cv_precision_log_reg = cross_val_score(clf2,X,y,cv=10,scoring='precision')\n",
    "\n",
    "cv_precision_log_reg = np.mean(cv_precision_log_reg)\n",
    "\n",
    "print('CROSS VALIDATED PRECISION FOR EXTRA TREES CLASSIFIER:'+' '+ str(cv_precision_et))\n",
    "print('CROSS VALIDATED PRECISION FOR LOGISTIC REGRESSION:'+' '+ str(cv_precision_log_reg))\n"
   ]
  },
  {
   "cell_type": "code",
   "execution_count": 45,
   "metadata": {},
   "outputs": [
    {
     "name": "stdout",
     "output_type": "stream",
     "text": [
      "CROSS VALIDATED RECALL FOR EXTRA TREES CLASSIFIER: 0.7692307692307693\n",
      "CROSS VALIDATED RECALL FOR LOGISTIC REGRESSION: 0.7758241758241758\n"
     ]
    }
   ],
   "source": [
    "## Cross validated Recall\n",
    "cv_rec_et = cross_val_score(clf1,X,y,cv=10,scoring='recall')\n",
    "\n",
    "cv_rec_et = np.mean(cv_rec_et)\n",
    "\n",
    "cv_rec_log_reg = cross_val_score(clf2,X,y,cv=10,scoring='recall')\n",
    "\n",
    "cv_rec_log_reg = np.mean(cv_rec_log_reg)\n",
    "\n",
    "print('CROSS VALIDATED RECALL FOR EXTRA TREES CLASSIFIER:'+' '+ str(cv_rec_et))\n",
    "print('CROSS VALIDATED RECALL FOR LOGISTIC REGRESSION:'+' '+ str(cv_rec_log_reg))\n"
   ]
  },
  {
   "cell_type": "code",
   "execution_count": 46,
   "metadata": {},
   "outputs": [
    {
     "name": "stdout",
     "output_type": "stream",
     "text": [
      "CROSS VALIDATED F1-SCORE FOR EXTRA TREES CLASSIFIER: 0.7796927899686519\n",
      "CROSS VALIDATED F1-SCORE FOR LOGISTIC REGRESSION: 0.7959766771430058\n"
     ]
    }
   ],
   "source": [
    "## Cross validated F1-score\n",
    "cv_f1_et= cross_val_score(clf1,X,y,cv=10,scoring='f1')\n",
    "\n",
    "cv_f1_et = np.mean(cv_f1_et)\n",
    "\n",
    "cv_f1_log_reg = cross_val_score(clf2,X,y,cv=10,scoring='f1')\n",
    "\n",
    "cv_f1_log_reg = np.mean(cv_f1_log_reg)\n",
    "\n",
    "print('CROSS VALIDATED F1-SCORE FOR EXTRA TREES CLASSIFIER:'+' '+ str(cv_f1_et))\n",
    "print('CROSS VALIDATED F1-SCORE FOR LOGISTIC REGRESSION:'+' '+ str(cv_f1_log_reg))\n",
    "\n"
   ]
  },
  {
   "cell_type": "code",
   "execution_count": 47,
   "metadata": {},
   "outputs": [
    {
     "data": {
      "text/plain": [
       "<AxesSubplot:title={'center':'Cross Validated Classification Metrics'}>"
      ]
     },
     "execution_count": 47,
     "metadata": {},
     "output_type": "execute_result"
    },
    {
     "data": {
      "image/png": "[encoded data removed]",
      "text/plain": [
       "<Figure size 1296x720 with 1 Axes>"
      ]
     },
     "metadata": {},
     "output_type": "display_data"
    }
   ],
   "source": [
    "# Visualize cross validated metrics\n",
    "\n",
    "cv_metrics = pd.DataFrame({'Accuracy':[cv_acc_et,cv_acc_log_reg],\n",
    "                           'Precision':[cv_precision_et,cv_precision_log_reg], \n",
    "                           'Recall':[cv_rec_et,cv_rec_log_reg], \n",
    "                           'F1 Score':[cv_f1_et,cv_f1_log_reg]}, \n",
    "                          index=['ET CLASSIFIER','LOGISTIC REGRESSION'])\n",
    "\n",
    "cv_metrics.T.plot.bar(title='Cross Validated Classification Metrics', figsize=(18,10), legend=True)"
   ]
  },
  {
   "cell_type": "markdown",
   "metadata": {},
   "source": [
    "The above plot once again shows us that there is very little to distinguish between our models. Hence we cannot yet pick decisively the model that we will use for making our final predictions. \n",
    "\n",
    "Now we will try to perform a test to determine the most significant parameters of the **13** given parameters that contribute to predict the presence of a heart problem."
   ]
  },
  {
   "cell_type": "markdown",
   "metadata": {},
   "source": [
    "## FEATURE IMPORTANCE TEST\n",
    "\n",
    "To determine which features contributed the most to the outcome of the model and how"
   ]
  },
  {
   "cell_type": "code",
   "execution_count": 48,
   "metadata": {},
   "outputs": [
    {
     "data": {
      "text/plain": [
       "ExtraTreesClassifier(max_leaf_nodes=10, n_estimators=120)"
      ]
     },
     "execution_count": 48,
     "metadata": {},
     "output_type": "execute_result"
    }
   ],
   "source": [
    "clf1 = ExtraTreesClassifier(max_leaf_nodes=10, n_estimators=120)\n",
    "clf1.fit(train_X,train_y)                 ## Setting up Extra Trees Classifier\n"
   ]
  },
  {
   "cell_type": "code",
   "execution_count": 49,
   "metadata": {},
   "outputs": [
    {
     "data": {
      "text/plain": [
       "LogisticRegression(C=0.06723357536499334, solver='liblinear')"
      ]
     },
     "execution_count": 49,
     "metadata": {},
     "output_type": "execute_result"
    }
   ],
   "source": [
    "clf2 = LogisticRegression(C=0.06723357536499334, solver='liblinear')\n",
    "clf2.fit(train_X,train_y)               ## Setting up Logistic Regression"
   ]
  },
  {
   "cell_type": "code",
   "execution_count": 50,
   "metadata": {},
   "outputs": [],
   "source": [
    "fimp1=clf1.feature_importances_  ## Importance for Extra Trees Classifier\n",
    "\n",
    "fimp2=clf2.coef_                 ## Importance for Logistic Regression\n",
    "\n",
    "\n"
   ]
  },
  {
   "cell_type": "code",
   "execution_count": 51,
   "metadata": {},
   "outputs": [
    {
     "data": {
      "text/html": [
       "<div>\n",
       "<style scoped>\n",
       "    .dataframe tbody tr th:only-of-type {\n",
       "        vertical-align: middle;\n",
       "    }\n",
       "\n",
       "    .dataframe tbody tr th {\n",
       "        vertical-align: top;\n",
       "    }\n",
       "\n",
       "    .dataframe thead th {\n",
       "        text-align: right;\n",
       "    }\n",
       "</style>\n",
       "<table border=\"1\" class=\"dataframe\">\n",
       "  <thead>\n",
       "    <tr style=\"text-align: right;\">\n",
       "      <th></th>\n",
       "      <th>Features</th>\n",
       "      <th>ET Importance</th>\n",
       "      <th>LR Importance</th>\n",
       "    </tr>\n",
       "  </thead>\n",
       "  <tbody>\n",
       "    <tr>\n",
       "      <th>0</th>\n",
       "      <td>age</td>\n",
       "      <td>0.036868</td>\n",
       "      <td>-0.008982</td>\n",
       "    </tr>\n",
       "    <tr>\n",
       "      <th>1</th>\n",
       "      <td>sex</td>\n",
       "      <td>0.025749</td>\n",
       "      <td>-0.029300</td>\n",
       "    </tr>\n",
       "    <tr>\n",
       "      <th>2</th>\n",
       "      <td>cp</td>\n",
       "      <td>0.225899</td>\n",
       "      <td>0.437959</td>\n",
       "    </tr>\n",
       "    <tr>\n",
       "      <th>3</th>\n",
       "      <td>trestbps</td>\n",
       "      <td>0.038420</td>\n",
       "      <td>0.010941</td>\n",
       "    </tr>\n",
       "    <tr>\n",
       "      <th>4</th>\n",
       "      <td>chol</td>\n",
       "      <td>0.043561</td>\n",
       "      <td>-0.005383</td>\n",
       "    </tr>\n",
       "    <tr>\n",
       "      <th>5</th>\n",
       "      <td>fbs</td>\n",
       "      <td>0.010488</td>\n",
       "      <td>-0.018238</td>\n",
       "    </tr>\n",
       "    <tr>\n",
       "      <th>6</th>\n",
       "      <td>restecg</td>\n",
       "      <td>0.013751</td>\n",
       "      <td>0.070327</td>\n",
       "    </tr>\n",
       "    <tr>\n",
       "      <th>7</th>\n",
       "      <td>thalach</td>\n",
       "      <td>0.044204</td>\n",
       "      <td>-0.010608</td>\n",
       "    </tr>\n",
       "    <tr>\n",
       "      <th>8</th>\n",
       "      <td>exang</td>\n",
       "      <td>0.107800</td>\n",
       "      <td>0.142832</td>\n",
       "    </tr>\n",
       "    <tr>\n",
       "      <th>9</th>\n",
       "      <td>oldpeak</td>\n",
       "      <td>0.075392</td>\n",
       "      <td>0.152773</td>\n",
       "    </tr>\n",
       "    <tr>\n",
       "      <th>10</th>\n",
       "      <td>slope</td>\n",
       "      <td>0.107734</td>\n",
       "      <td>0.142713</td>\n",
       "    </tr>\n",
       "    <tr>\n",
       "      <th>11</th>\n",
       "      <td>ca</td>\n",
       "      <td>0.140792</td>\n",
       "      <td>0.366635</td>\n",
       "    </tr>\n",
       "    <tr>\n",
       "      <th>12</th>\n",
       "      <td>thal</td>\n",
       "      <td>0.129343</td>\n",
       "      <td>0.255687</td>\n",
       "    </tr>\n",
       "  </tbody>\n",
       "</table>\n",
       "</div>"
      ],
      "text/plain": [
       "    Features   ET Importance  LR Importance\n",
       "0        age        0.036868      -0.008982\n",
       "1        sex        0.025749      -0.029300\n",
       "2         cp        0.225899       0.437959\n",
       "3   trestbps        0.038420       0.010941\n",
       "4       chol        0.043561      -0.005383\n",
       "5        fbs        0.010488      -0.018238\n",
       "6    restecg        0.013751       0.070327\n",
       "7    thalach        0.044204      -0.010608\n",
       "8      exang        0.107800       0.142832\n",
       "9    oldpeak        0.075392       0.152773\n",
       "10     slope        0.107734       0.142713\n",
       "11        ca        0.140792       0.366635\n",
       "12      thal        0.129343       0.255687"
      ]
     },
     "execution_count": 51,
     "metadata": {},
     "output_type": "execute_result"
    }
   ],
   "source": [
    "feat = df.columns.drop('condition')\n",
    "features_imp = pd.DataFrame({'Features':feat, ' ET Importance':fimp1, 'LR Importance':fimp2.flatten()})\n",
    "features_imp  ## Visualizing Feature Importances"
   ]
  },
  {
   "cell_type": "code",
   "execution_count": 52,
   "metadata": {},
   "outputs": [
    {
     "data": {
      "text/plain": [
       "<AxesSubplot:title={'center':'Feature Importance'}>"
      ]
     },
     "execution_count": 52,
     "metadata": {},
     "output_type": "execute_result"
    },
    {
     "data": {
      "image/png": "[encoded data removed]",
      "text/plain": [
       "<Figure size 432x288 with 1 Axes>"
      ]
     },
     "metadata": {},
     "output_type": "display_data"
    }
   ],
   "source": [
    "## Visualizing Feature Importances Graphically\n",
    "features_imp.plot.bar(title=\"Feature Importance\",legend=True)"
   ]
  },
  {
   "cell_type": "markdown",
   "metadata": {},
   "source": [
    "**ET IMPORTANCE**: Blue bars show the importance of features for Extra Trees Classifier. The greater the value, the greater the importance of the features.\n",
    "\n",
    "**LR IMPORTANCE**: Orange bars show the importance of features for Logistic Regression. The greater the value(on either sides of 0), the greater is the importance of the features. Negative values imply a negative correlation between the feature and condition."
   ]
  },
  {
   "cell_type": "markdown",
   "metadata": {},
   "source": [
    "## APPLICATION OF EACH MODEL TO SELECTED PARAMETERS"
   ]
  },
  {
   "cell_type": "code",
   "execution_count": 53,
   "metadata": {},
   "outputs": [],
   "source": [
    "features_et = ['cp','thalach','exang','ca',\n",
    "               'thal','slope','oldpeak'] ## Important features for Extra Trees Classifier.\n",
    "\n",
    "features_log_reg = ['cp','exang','oldpeak',\n",
    "                    'slope','ca','thal'] ## Important features for Logistic Regression \n",
    "\n",
    "X1 = X[features_et]\n",
    "X2 = X[features_log_reg]\n",
    "y = df.condition\n",
    "np.random.seed(42)\n",
    "\n",
    "\n"
   ]
  },
  {
   "cell_type": "code",
   "execution_count": 54,
   "metadata": {},
   "outputs": [
    {
     "name": "stdout",
     "output_type": "stream",
     "text": [
      "EXTRA TREES CLASSIFIER SCORE ON TEST DATA:0.8565400843881856\n"
     ]
    }
   ],
   "source": [
    "test_X1, train_X1, test_y, train_y = train_test_split(X1,y,test_size=0.2)\n",
    "\n",
    "model1 = ExtraTreesClassifier(max_leaf_nodes=10, n_estimators=120)\n",
    "\n",
    "model1.fit(train_X1,train_y)\n",
    "\n",
    "s_test_et=model1.score(test_X1,test_y)\n",
    "print('EXTRA TREES CLASSIFIER SCORE ON TEST DATA:'+str(s_test_et))"
   ]
  },
  {
   "cell_type": "code",
   "execution_count": 55,
   "metadata": {},
   "outputs": [
    {
     "name": "stdout",
     "output_type": "stream",
     "text": [
      "EXTRA TREES CLASSIFIER SCORE ON TRAINING DATA:0.9166666666666666\n"
     ]
    }
   ],
   "source": [
    "s_train_et=model1.score(train_X1,train_y)\n",
    "print('EXTRA TREES CLASSIFIER SCORE ON TRAINING DATA:'+str(s_train_et))"
   ]
  },
  {
   "cell_type": "code",
   "execution_count": 56,
   "metadata": {},
   "outputs": [
    {
     "name": "stdout",
     "output_type": "stream",
     "text": [
      "LOGISTIC REGRESSION SCORE ON TEST DATA:0.8227848101265823\n"
     ]
    }
   ],
   "source": [
    "test_X2, train_X2, test_y, train_y = train_test_split(X2,y,test_size=0.2)\n",
    "\n",
    "model2 = LogisticRegression(C=0.06723357536499334, solver='liblinear')\n",
    "\n",
    "model2.fit(train_X2,train_y)\n",
    "\n",
    "s_test_log_reg=model2.score(test_X2,test_y)\n",
    "print('LOGISTIC REGRESSION SCORE ON TEST DATA:'+str(s_test_log_reg))"
   ]
  },
  {
   "cell_type": "code",
   "execution_count": 57,
   "metadata": {},
   "outputs": [
    {
     "name": "stdout",
     "output_type": "stream",
     "text": [
      "LOGISTIC REGRESSION SCORE ON TRAINING DATA:0.75\n"
     ]
    }
   ],
   "source": [
    "s_train_log_reg=model2.score(train_X2,train_y)\n",
    "print('LOGISTIC REGRESSION SCORE ON TRAINING DATA:'+str(s_train_log_reg))"
   ]
  },
  {
   "cell_type": "markdown",
   "metadata": {},
   "source": [
    "## MODEL SCORES ON TRAIN AND TEST DATA"
   ]
  },
  {
   "cell_type": "code",
   "execution_count": 58,
   "metadata": {},
   "outputs": [
    {
     "data": {
      "text/html": [
       "<div>\n",
       "<style scoped>\n",
       "    .dataframe tbody tr th:only-of-type {\n",
       "        vertical-align: middle;\n",
       "    }\n",
       "\n",
       "    .dataframe tbody tr th {\n",
       "        vertical-align: top;\n",
       "    }\n",
       "\n",
       "    .dataframe thead th {\n",
       "        text-align: right;\n",
       "    }\n",
       "</style>\n",
       "<table border=\"1\" class=\"dataframe\">\n",
       "  <thead>\n",
       "    <tr style=\"text-align: right;\">\n",
       "      <th></th>\n",
       "      <th>TRAIN SCORE</th>\n",
       "      <th>TEST SCORE</th>\n",
       "    </tr>\n",
       "  </thead>\n",
       "  <tbody>\n",
       "    <tr>\n",
       "      <th>Éxtra Trees Classifier</th>\n",
       "      <td>0.916667</td>\n",
       "      <td>0.856540</td>\n",
       "    </tr>\n",
       "    <tr>\n",
       "      <th>Logistic Regression</th>\n",
       "      <td>0.750000</td>\n",
       "      <td>0.822785</td>\n",
       "    </tr>\n",
       "  </tbody>\n",
       "</table>\n",
       "</div>"
      ],
      "text/plain": [
       "                        TRAIN SCORE  TEST SCORE\n",
       "Éxtra Trees Classifier     0.916667    0.856540\n",
       "Logistic Regression        0.750000    0.822785"
      ]
     },
     "execution_count": 58,
     "metadata": {},
     "output_type": "execute_result"
    }
   ],
   "source": [
    "scores = pd.DataFrame({'TRAIN SCORE':[s_train_et,s_train_log_reg],\n",
    "                       'TEST SCORE':[s_test_et,s_test_log_reg]}, \n",
    "                      index=['Éxtra Trees Classifier','Logistic Regression'])\n",
    "scores"
   ]
  },
  {
   "cell_type": "markdown",
   "metadata": {},
   "source": [
    "### FINAL DECISION ON MODEL\n",
    "\n",
    "The small table above is the conclusion of the entire project. After comparing the two models on a variety of performance metrics, we have reached the following conclusion:\n",
    "\n",
    "* The Extra Trees Classifier model has performed extremely well on the training data. After tuning the model, using the best set of parameters and selecting the important features, we have obtained a considerably high training score of **91.67%**.\n",
    "\n",
    "* The Logistic Regression model was expected to perform reasonably well on the training data. This is because the model had given us a good score (around **83.5%**) even without tuning. However it is a very unusual and surprising discovery that the model could give us a score of merely **75%** on the training data, even after hyperparameter tuning and feature selection.\n",
    "\n",
    "* The Extra Trees Classifier performs reasonably well on test data, givibg a score of **85.65%**. Thus we have been successful in our primary objective of obtaining a model which can provide predictions with at least **85%** accuracy.\n",
    "\n",
    "* Although the Logistic Regression Model underperformed on the training data, it gives us an accuracy of **82.23%** on the test data, which is a surprising result again.\n",
    "\n",
    "\n",
    "#### CONCLUSION: \n",
    "For making final predictions, we will use our customised Extra Trees Classifier Model with inputs for only the following features:\n",
    "\n",
    "* CHEST PAIN (cp)\n",
    "* MAXIMUM HEART RATE ACHIEVED (thalach)\n",
    "* EXERCISE INDUCED ANGINA (exang)\n",
    "* ST DEPRESSION INDUCED BY EXERCISE (oldpeak)\n",
    "* SLOPE OF PEAK EXERCISE ST SEGMENT(slope)\n",
    "* NUMBER OF MAJOR VESSELS COLOURED BY FLUOROSCOPY(ca)\n",
    "* THALIUM INDUCED STRESS (thal)"
   ]
  },
  {
   "cell_type": "markdown",
   "metadata": {},
   "source": [
    "## COMPARISON OF FINAL PREDICTIONS WITH TEST DATA\n",
    "\n",
    "The table below shows how our model has fared. Legend:\n",
    "* 1: Presence of Heart Disease\n",
    "* 0: Absence of Heart Disease"
   ]
  },
  {
   "cell_type": "code",
   "execution_count": 63,
   "metadata": {},
   "outputs": [
    {
     "data": {
      "text/html": [
       "<div>\n",
       "<style scoped>\n",
       "    .dataframe tbody tr th:only-of-type {\n",
       "        vertical-align: middle;\n",
       "    }\n",
       "\n",
       "    .dataframe tbody tr th {\n",
       "        vertical-align: top;\n",
       "    }\n",
       "\n",
       "    .dataframe thead th {\n",
       "        text-align: right;\n",
       "    }\n",
       "</style>\n",
       "<table border=\"1\" class=\"dataframe\">\n",
       "  <thead>\n",
       "    <tr style=\"text-align: right;\">\n",
       "      <th></th>\n",
       "      <th>Actual Test Result</th>\n",
       "      <th>Predicted Result</th>\n",
       "    </tr>\n",
       "  </thead>\n",
       "  <tbody>\n",
       "    <tr>\n",
       "      <th>163</th>\n",
       "      <td>Presence of Heart Disease</td>\n",
       "      <td>Presence of Heart Disease</td>\n",
       "    </tr>\n",
       "    <tr>\n",
       "      <th>120</th>\n",
       "      <td>Absence of Heart Disease</td>\n",
       "      <td>Presence of Heart Disease</td>\n",
       "    </tr>\n",
       "    <tr>\n",
       "      <th>2</th>\n",
       "      <td>Absence of Heart Disease</td>\n",
       "      <td>Absence of Heart Disease</td>\n",
       "    </tr>\n",
       "    <tr>\n",
       "      <th>164</th>\n",
       "      <td>Presence of Heart Disease</td>\n",
       "      <td>Absence of Heart Disease</td>\n",
       "    </tr>\n",
       "    <tr>\n",
       "      <th>182</th>\n",
       "      <td>Presence of Heart Disease</td>\n",
       "      <td>Presence of Heart Disease</td>\n",
       "    </tr>\n",
       "    <tr>\n",
       "      <th>71</th>\n",
       "      <td>Absence of Heart Disease</td>\n",
       "      <td>Absence of Heart Disease</td>\n",
       "    </tr>\n",
       "    <tr>\n",
       "      <th>271</th>\n",
       "      <td>Absence of Heart Disease</td>\n",
       "      <td>Absence of Heart Disease</td>\n",
       "    </tr>\n",
       "    <tr>\n",
       "      <th>285</th>\n",
       "      <td>Absence of Heart Disease</td>\n",
       "      <td>Presence of Heart Disease</td>\n",
       "    </tr>\n",
       "    <tr>\n",
       "      <th>60</th>\n",
       "      <td>Absence of Heart Disease</td>\n",
       "      <td>Absence of Heart Disease</td>\n",
       "    </tr>\n",
       "    <tr>\n",
       "      <th>133</th>\n",
       "      <td>Presence of Heart Disease</td>\n",
       "      <td>Presence of Heart Disease</td>\n",
       "    </tr>\n",
       "    <tr>\n",
       "      <th>30</th>\n",
       "      <td>Absence of Heart Disease</td>\n",
       "      <td>Absence of Heart Disease</td>\n",
       "    </tr>\n",
       "    <tr>\n",
       "      <th>69</th>\n",
       "      <td>Absence of Heart Disease</td>\n",
       "      <td>Absence of Heart Disease</td>\n",
       "    </tr>\n",
       "    <tr>\n",
       "      <th>290</th>\n",
       "      <td>Presence of Heart Disease</td>\n",
       "      <td>Presence of Heart Disease</td>\n",
       "    </tr>\n",
       "    <tr>\n",
       "      <th>201</th>\n",
       "      <td>Presence of Heart Disease</td>\n",
       "      <td>Presence of Heart Disease</td>\n",
       "    </tr>\n",
       "    <tr>\n",
       "      <th>44</th>\n",
       "      <td>Absence of Heart Disease</td>\n",
       "      <td>Presence of Heart Disease</td>\n",
       "    </tr>\n",
       "    <tr>\n",
       "      <th>70</th>\n",
       "      <td>Absence of Heart Disease</td>\n",
       "      <td>Absence of Heart Disease</td>\n",
       "    </tr>\n",
       "    <tr>\n",
       "      <th>115</th>\n",
       "      <td>Absence of Heart Disease</td>\n",
       "      <td>Absence of Heart Disease</td>\n",
       "    </tr>\n",
       "    <tr>\n",
       "      <th>181</th>\n",
       "      <td>Presence of Heart Disease</td>\n",
       "      <td>Presence of Heart Disease</td>\n",
       "    </tr>\n",
       "    <tr>\n",
       "      <th>166</th>\n",
       "      <td>Absence of Heart Disease</td>\n",
       "      <td>Absence of Heart Disease</td>\n",
       "    </tr>\n",
       "    <tr>\n",
       "      <th>37</th>\n",
       "      <td>Absence of Heart Disease</td>\n",
       "      <td>Absence of Heart Disease</td>\n",
       "    </tr>\n",
       "  </tbody>\n",
       "</table>\n",
       "</div>"
      ],
      "text/plain": [
       "            Actual Test Result           Predicted Result\n",
       "163  Presence of Heart Disease  Presence of Heart Disease\n",
       "120   Absence of Heart Disease  Presence of Heart Disease\n",
       "2     Absence of Heart Disease   Absence of Heart Disease\n",
       "164  Presence of Heart Disease   Absence of Heart Disease\n",
       "182  Presence of Heart Disease  Presence of Heart Disease\n",
       "71    Absence of Heart Disease   Absence of Heart Disease\n",
       "271   Absence of Heart Disease   Absence of Heart Disease\n",
       "285   Absence of Heart Disease  Presence of Heart Disease\n",
       "60    Absence of Heart Disease   Absence of Heart Disease\n",
       "133  Presence of Heart Disease  Presence of Heart Disease\n",
       "30    Absence of Heart Disease   Absence of Heart Disease\n",
       "69    Absence of Heart Disease   Absence of Heart Disease\n",
       "290  Presence of Heart Disease  Presence of Heart Disease\n",
       "201  Presence of Heart Disease  Presence of Heart Disease\n",
       "44    Absence of Heart Disease  Presence of Heart Disease\n",
       "70    Absence of Heart Disease   Absence of Heart Disease\n",
       "115   Absence of Heart Disease   Absence of Heart Disease\n",
       "181  Presence of Heart Disease  Presence of Heart Disease\n",
       "166   Absence of Heart Disease   Absence of Heart Disease\n",
       "37    Absence of Heart Disease   Absence of Heart Disease"
      ]
     },
     "execution_count": 63,
     "metadata": {},
     "output_type": "execute_result"
    }
   ],
   "source": [
    "preds_val = pd.DataFrame({\"Actual Test Result\":test_y, 'Predicted Result':y_preds1})\n",
    "preds_val[\"Actual Test Result\"] = preds_val[\"Actual Test Result\"].map({1:\"Presence of Heart Disease\",0:'Absence of Heart Disease'})\n",
    "preds_val[\"Predicted Result\"] = preds_val[\"Predicted Result\"].map({1:\"Presence of Heart Disease\",0:'Absence of Heart Disease'})\n",
    "preds_val.head(20)\n"
   ]
  },
  {
   "cell_type": "markdown",
   "metadata": {},
   "source": [
    "## LIMITATIONS AND FUTURE SCOPE\n",
    "\n",
    "This project was an attempt at making a model to solve a binary classification problem. Despite the detailed analysis of data and an intricate attempt at modelling, there are certain limitations in the project.\n",
    "\n",
    "* There is a scope for improvement in the dataset used for this project. Data should be collected from a greater number of female patients. More number of diabetic patients should also be included in the primary analysis. \n",
    "* If the entire modelling process is repeated after removing the outliers from the numerical data, there is a chance of getting improved accuracy in the resulting model.\n",
    "* The classifying algorithms used for this project are the algorithms provided to us by scikit learn. More advanced classification algorithms like XGBoost or CatBoost might give us improved results.\n",
    "* Deep Learning algorithms can also bring about a significant improvement in the accuracy of the model\n",
    "* For this particular project, the presence of false negatives is worse than presence of false positives. Although there is a combined total of only 37 false predictions from the data, the number of false negatives obtained (25) is greater than the number of false positives(12)\n",
    "* The accuracy of Logistic Regression on the training data decreased considerably after hyperparameter tuning. This was an unexpected result, especially because other performance metrics obtained for the logistic regression model were very high. Further analysis needs to be done to determine the cause of this anomaly and to find a way to mend it."
   ]
  },
  {
   "cell_type": "code",
   "execution_count": null,
   "metadata": {},
   "outputs": [],
   "source": []
  }
 ],
 "metadata": {
  "kernelspec": {
   "display_name": "Python 3",
   "language": "python",
   "name": "python3"
  },
  "language_info": {
   "codemirror_mode": {
    "name": "ipython",
    "version": 3
   },
   "file_extension": ".py",
   "mimetype": "text/x-python",
   "name": "python",
   "nbconvert_exporter": "python",
   "pygments_lexer": "ipython3",
   "version": "3.8.5"
  }
 },
 "nbformat": 4,
 "nbformat_minor": 4
}
